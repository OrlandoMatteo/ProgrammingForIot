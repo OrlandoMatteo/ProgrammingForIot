{
 "cells": [
  {
   "cell_type": "markdown",
   "metadata": {},
   "source": [
    "Get started with Python programming\n",
    "===================================\n",
    "\n",
    "Exercise 1\n",
    "===\n",
    "Implement a \"Point\" class that is able to represent 2-D points.  \n",
    "The class must contains the methods to obtain the results shown below"
   ]
  },
  {
   "cell_type": "code",
   "execution_count": 17,
   "metadata": {},
   "outputs": [
    {
     "name": "stdout",
     "output_type": "stream",
     "text": [
      "6.0\n"
     ]
    }
   ],
   "source": [
    "from Exercise_1 import *\n",
    "a=Point(7,1)\n",
    "b=Point(1,1)\n",
    "print(a.distance(b))"
   ]
  },
  {
   "cell_type": "code",
   "execution_count": 18,
   "metadata": {},
   "outputs": [
    {
     "name": "stdout",
     "output_type": "stream",
     "text": [
      "(9,3)\n"
     ]
    }
   ],
   "source": [
    "a.move(2,2)\n",
    "print(a)"
   ]
  },
  {
   "cell_type": "markdown",
   "metadata": {},
   "source": [
    "**Tips and tricks**:\n",
    "* The formula for the distance betwees two points is  \n",
    "$$d(P_1,P_2)=\\sqrt{(x_2-x_1)^2+(y_2-y_1)^2}$$\n",
    "* To use the square root function you need to import math and use math.sqrt like below"
   ]
  },
  {
   "cell_type": "code",
   "execution_count": 19,
   "metadata": {},
   "outputs": [
    {
     "name": "stdout",
     "output_type": "stream",
     "text": [
      "2.0\n"
     ]
    }
   ],
   "source": [
    "import math\n",
    "print(math.sqrt(4))"
   ]
  },
  {
   "cell_type": "markdown",
   "metadata": {},
   "source": [
    "Exercise 2\n",
    "===\n",
    "Implement a \"Line\" class that is able to represent 2-D lines.\n",
    "Using the class \"Points\" of the previous exercise and this one try to obtain the following results"
   ]
  },
  {
   "cell_type": "code",
   "execution_count": 20,
   "metadata": {},
   "outputs": [],
   "source": [
    "from Exercise_2 import *"
   ]
  },
  {
   "cell_type": "code",
   "execution_count": 21,
   "metadata": {},
   "outputs": [
    {
     "name": "stdout",
     "output_type": "stream",
     "text": [
      "Line: y=3x+2\n"
     ]
    }
   ],
   "source": [
    "l=Line(3,2)\n",
    "\n",
    "print(l)\n"
   ]
  },
  {
   "cell_type": "code",
   "execution_count": 22,
   "metadata": {},
   "outputs": [
    {
     "data": {
      "text/plain": [
       "Line: y=0.3333333333333333x+1.0"
      ]
     },
     "execution_count": 22,
     "metadata": {},
     "output_type": "execute_result"
    }
   ],
   "source": [
    "a=Point(0,1)\n",
    "b=Point(2,2)\n",
    "\n",
    "l.line_from_points(a,b)"
   ]
  },
  {
   "cell_type": "code",
   "execution_count": 23,
   "metadata": {},
   "outputs": [
    {
     "name": "stdout",
     "output_type": "stream",
     "text": [
      "2.82842712474619\n"
     ]
    },
    {
     "data": {
      "text/plain": [
       "(0.0, 0.0)"
      ]
     },
     "execution_count": 23,
     "metadata": {},
     "output_type": "execute_result"
    }
   ],
   "source": [
    "l=Line(1,0)\n",
    "\n",
    "m=Line(-1,0)\n",
    "\n",
    "a=Point(1,5)\n",
    "\n",
    "print(l.distance(a))\n",
    "\n",
    "i=l.intersection(m)\n",
    "(0.0,0.0)"
   ]
  },
  {
   "cell_type": "markdown",
   "metadata": {},
   "source": [
    "**Tips and trics**\n",
    "* The formula to obtain the equation from 2 points is\n",
    "$$ y=(y_2-y_1)/(x_2-x_1)x-(y_2-y_1)/(x_2-x_1)x_1+y_1$$ \n",
    "* The formula for the distance between a line and a point is \n",
    "$$d(P,r)=\\frac{|ax_P+by_P+c|}{\\sqrt{a^2+b^2}}$$\n",
    "* the formula to find the intersection is\n",
    "$$P\\left({\\frac {q_2-q_1}{m_1-m_2}},m_1{\\frac {q_2-q_1}{m_1-m_2}}+q_1\\right)$$"
   ]
  },
  {
   "cell_type": "markdown",
   "metadata": {},
   "source": [
    "Exercise 3\n",
    "===\n",
    "Create the classes \"Contact\" and \"AddressBook\"\n",
    "All the contacts are stored in a json file named \"contacts.json\" and are similar to"
   ]
  },
  {
   "cell_type": "raw",
   "metadata": {},
   "source": [
    "{\n",
    "                   \"name\": \"Cassio\",\n",
    "                   \"surname\":\"Zen\",\n",
    "                   \"email\": \"cassiozen@gmail.com\"\n",
    "}"
   ]
  },
  {
   "cell_type": "markdown",
   "metadata": {},
   "source": [
    "The \"AddressBook\" class must be able to read the content of the file and perform CRUD (Create,Read,Update,Delete). The Update is the most difficult so i suggest it to begin ith the other. Below you can find an example\n"
   ]
  },
  {
   "cell_type": "code",
   "execution_count": 24,
   "metadata": {},
   "outputs": [
    {
     "name": "stdout",
     "output_type": "stream",
     "text": [
      "Name:Cassio, Surname:Zen, mail:cassiozen@gmail.com\n",
      "\n",
      "Name:Dan, Surname:Abramov, mail:gaearon@somewhere.com\n",
      "\n",
      "Name:Pete, Surname:Hunt, mail:floydophone@somewhere.com\n",
      "\n",
      "Name:Paul, Surname:Shannessy, mail:zpao@somewhere.com\n",
      "\n",
      "Name:Ryan, Surname:Florence, mail:rpflorence@somewhere.com\n",
      "\n",
      "Name:Sebastian, Surname:Markbage, mail:sebmarkbage@here.com\n",
      "\n"
     ]
    }
   ],
   "source": [
    "from Exercise_3 import *\n",
    "book=AddressBook()\n",
    "book.show()"
   ]
  },
  {
   "cell_type": "code",
   "execution_count": 25,
   "metadata": {},
   "outputs": [
    {
     "name": "stdout",
     "output_type": "stream",
     "text": [
      "I found the following results:\n",
      "\n",
      "Name:Dan, Surname:Abramov, mail:gaearon@somewhere.com\n",
      "\n"
     ]
    }
   ],
   "source": [
    "book.find_by_name('Dan')"
   ]
  },
  {
   "cell_type": "code",
   "execution_count": 26,
   "metadata": {},
   "outputs": [
    {
     "name": "stdout",
     "output_type": "stream",
     "text": [
      "Name:Cassio, Surname:Zen, mail:cassiozen@gmail.com\n",
      "\n",
      "Name:Pete, Surname:Hunt, mail:floydophone@somewhere.com\n",
      "\n",
      "Name:Paul, Surname:Shannessy, mail:zpao@somewhere.com\n",
      "\n",
      "Name:Ryan, Surname:Florence, mail:rpflorence@somewhere.com\n",
      "\n",
      "Name:Sebastian, Surname:Markbage, mail:sebmarkbage@here.com\n",
      "\n"
     ]
    }
   ],
   "source": [
    "book.remove_contact('Dan')\n",
    "book.show()"
   ]
  },
  {
   "cell_type": "code",
   "execution_count": 27,
   "metadata": {},
   "outputs": [],
   "source": [
    "book.add_contact('Peter','Parker','notspiderman@marvel.com')"
   ]
  },
  {
   "cell_type": "code",
   "execution_count": 28,
   "metadata": {},
   "outputs": [
    {
     "name": "stdout",
     "output_type": "stream",
     "text": [
      "Name:Cassio, Surname:Zen, mail:cassiozen@gmail.com\n",
      "\n",
      "Name:Pete, Surname:Hunt, mail:floydophone@somewhere.com\n",
      "\n",
      "Name:Paul, Surname:Shannessy, mail:zpao@somewhere.com\n",
      "\n",
      "Name:Ryan, Surname:Florence, mail:rpflorence@somewhere.com\n",
      "\n",
      "Name:Sebastian, Surname:Markbage, mail:sebmarkbage@here.com\n",
      "\n",
      "Name:Peter, Surname:Parker, mail:notspiderman@marvel.com\n",
      "\n"
     ]
    }
   ],
   "source": [
    "book.show()"
   ]
  },
  {
   "cell_type": "markdown",
   "metadata": {},
   "source": [
    "Once you've done this you can now create a client to use the functions you implemented in a \"user-frienldy way\"\n",
    "The result should be something like the following"
   ]
  },
  {
   "cell_type": "markdown",
   "metadata": {},
   "source": [
    "~~~\n",
    "Welcome to the application to manage your contacts\n",
    "Press 's' tho show the list of contacts\n",
    "Press 'n' to add a contact\n",
    "Press 'f' to find a contact\n",
    "Press 'd' to delete a contact\n",
    "Press 'q' to quit\n",
    " s\n",
    "Name:Cassio, Surname:Zen, mail:cassiozen@gmail.com\n",
    "\n",
    "Name:Dan, Surname:Abramov, mail:gaearon@somewhere.com\n",
    "\n",
    "Name:Pete, Surname:Hunt, mail:floydophone@somewhere.com\n",
    "\n",
    "Name:Paul, Surname:Shannessy, mail:zpao@somewhere.com\n",
    "\n",
    "Name:Ryan, Surname:Florence, mail:rpflorence@somewhere.com\n",
    "\n",
    "Name:Sebastian, Surname:Markbage, mail:sebmarkbage@here.com\n",
    "\n",
    "Press 's' tho show the list of contacts\n",
    "Press 'n' to add a contact\n",
    "Press 'f' to find a contact\n",
    "Press 'd' to delete a contact\n",
    "Press 'q' to quit\n",
    " g\n",
    "Command not available\n",
    "Press 's' tho show the list of contacts\n",
    "Press 'n' to add a contact\n",
    "Press 'f' to find a contact\n",
    "Press 'd' to delete a contact\n",
    "Press 'q' to quit\n",
    " q\n",
    "~~~"
   ]
  },
  {
   "cell_type": "code",
   "execution_count": null,
   "metadata": {},
   "outputs": [],
   "source": []
  }
 ],
 "metadata": {
  "kernelspec": {
   "display_name": "Python 3",
   "language": "python",
   "name": "python3"
  },
  "language_info": {
   "codemirror_mode": {
    "name": "ipython",
    "version": 3
   },
   "file_extension": ".py",
   "mimetype": "text/x-python",
   "name": "python",
   "nbconvert_exporter": "python",
   "pygments_lexer": "ipython3",
   "version": "3.6.8"
  }
 },
 "nbformat": 4,
 "nbformat_minor": 2
}
