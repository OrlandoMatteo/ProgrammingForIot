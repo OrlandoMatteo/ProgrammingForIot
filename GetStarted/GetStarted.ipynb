{
 "cells": [
  {
   "cell_type": "markdown",
   "metadata": {
    "slideshow": {
     "slide_type": "slide"
    }
   },
   "source": [
    "Get started with Python programming\n",
    "==================================="
   ]
  },
  {
   "cell_type": "markdown",
   "metadata": {
    "slideshow": {
     "slide_type": "slide"
    }
   },
   "source": [
    "Exercise 1\n",
    "---\n",
    "Implement a \"Point\" class that is able to represent 2-D points.  \n",
    "The class must contains the methods to obtain the results shown below"
   ]
  },
  {
   "cell_type": "code",
   "execution_count": 2,
   "metadata": {
    "slideshow": {
     "slide_type": "slide"
    }
   },
   "outputs": [
    {
     "name": "stdout",
     "output_type": "stream",
     "text": [
      "6.0\n",
      "(9,3)\n"
     ]
    }
   ],
   "source": [
    "\n",
    "from Exercise_1 import *\n",
    "a=Point(7,1)\n",
    "b=Point(1,1)\n",
    "print(a.distance(b))\n",
    "\n",
    "a.move(2,2)\n",
    "print(a)"
   ]
  },
  {
   "cell_type": "markdown",
   "metadata": {},
   "source": [
    "**Tips and tricks**:\n",
    "* The formula for the distance betwees two points is  \n",
    "$$d(P_1,P_2)=\\sqrt{(x_2-x_1)^2+(y_2-y_1)^2}$$\n",
    "* To use the square root function you need to import math and use math.sqrt like below"
   ]
  },
  {
   "cell_type": "code",
   "execution_count": 19,
   "metadata": {
    "slideshow": {
     "slide_type": "slide"
    }
   },
   "outputs": [
    {
     "name": "stdout",
     "output_type": "stream",
     "text": [
      "2.0\n"
     ]
    }
   ],
   "source": [
    "import math\n",
    "print(math.sqrt(4))"
   ]
  },
  {
   "cell_type": "markdown",
   "metadata": {},
   "source": [
    "Exercise 2\n",
    "===\n",
    "Implement a \"Line\" class that is able to represent 2-D lines.\n",
    "Using the class \"Points\" of the previous exercise and this one try to obtain the following results"
   ]
  },
  {
   "cell_type": "code",
   "execution_count": 20,
   "metadata": {},
   "outputs": [],
   "source": [
    "from Exercise_2 import *"
   ]
  },
  {
   "cell_type": "code",
   "execution_count": 21,
   "metadata": {},
   "outputs": [
    {
     "name": "stdout",
     "output_type": "stream",
     "text": [
      "Line: y=3x+2\n"
     ]
    }
   ],
   "source": [
    "l=Line(3,2)\n",
    "\n",
    "print(l)\n"
   ]
  },
  {
   "cell_type": "code",
   "execution_count": 22,
   "metadata": {},
   "outputs": [
    {
     "data": {
      "text/plain": [
       "Line: y=0.3333333333333333x+1.0"
      ]
     },
     "execution_count": 22,
     "metadata": {},
     "output_type": "execute_result"
    }
   ],
   "source": [
    "a=Point(0,1)\n",
    "b=Point(2,2)\n",
    "\n",
    "l.line_from_points(a,b)"
   ]
  },
  {
   "cell_type": "code",
   "execution_count": 23,
   "metadata": {
    "slideshow": {
     "slide_type": "slide"
    }
   },
   "outputs": [
    {
     "name": "stdout",
     "output_type": "stream",
     "text": [
      "2.82842712474619\n"
     ]
    },
    {
     "data": {
      "text/plain": [
       "(0.0, 0.0)"
      ]
     },
     "execution_count": 23,
     "metadata": {},
     "output_type": "execute_result"
    }
   ],
   "source": [
    "l=Line(1,0)\n",
    "\n",
    "m=Line(-1,0)\n",
    "\n",
    "a=Point(1,5)\n",
    "\n",
    "print(l.distance(a))\n",
    "\n",
    "i=l.intersection(m)\n",
    "(0.0,0.0)"
   ]
  },
  {
   "cell_type": "markdown",
   "metadata": {
    "slideshow": {
     "slide_type": "slide"
    }
   },
   "source": [
    "**Tips and trics**\n",
    "* The formula to obtain the equation from 2 points is\n",
    "$$ y=(y_2-y_1)/(x_2-x_1)x-(y_2-y_1)/(x_2-x_1)x_1+y_1$$ \n",
    "* The formula for the distance between a line and a point is \n",
    "$$d(P,r)=\\frac{|ax_P+by_P+c|}{\\sqrt{a^2+b^2}}$$\n",
    "* the formula to find the intersection is\n",
    "$$P\\left({\\frac {q_2-q_1}{m_1-m_2}},m_1{\\frac {q_2-q_1}{m_1-m_2}}+q_1\\right)$$"
   ]
  },
  {
   "cell_type": "markdown",
   "metadata": {},
   "source": [
    "Exercise 3\n",
    "---\n",
    "Create the classes \"Contact\" and \"AddressBook\"\n",
    "All the contacts are stored in a json file named \"contacts.json\" and are similar to"
   ]
  },
  {
   "cell_type": "raw",
   "metadata": {},
   "source": [
    "{\n",
    "                   \"name\": \"Cassio\",\n",
    "                   \"surname\":\"Zen\",\n",
    "                   \"email\": \"cassiozen@gmail.com\"\n",
    "}"
   ]
  },
  {
   "cell_type": "markdown",
   "metadata": {
    "slideshow": {
     "slide_type": "slide"
    }
   },
   "source": [
    "The \"AddressBook\" class must be able to read the content of the file and perform CRUD (Create,Read,Update,Delete). The Update is the most difficult so i suggest it to begin ith the other. Below you can find an example\n"
   ]
  },
  {
   "cell_type": "code",
   "execution_count": 24,
   "metadata": {},
   "outputs": [
    {
     "name": "stdout",
     "output_type": "stream",
     "text": [
      "Name:Cassio, Surname:Zen, mail:cassiozen@gmail.com\n",
      "\n",
      "Name:Dan, Surname:Abramov, mail:gaearon@somewhere.com\n",
      "\n",
      "Name:Pete, Surname:Hunt, mail:floydophone@somewhere.com\n",
      "\n",
      "Name:Paul, Surname:Shannessy, mail:zpao@somewhere.com\n",
      "\n",
      "Name:Ryan, Surname:Florence, mail:rpflorence@somewhere.com\n",
      "\n",
      "Name:Sebastian, Surname:Markbage, mail:sebmarkbage@here.com\n",
      "\n"
     ]
    }
   ],
   "source": [
    "from Exercise_3 import *\n",
    "book=AddressBook()\n",
    "book.show()"
   ]
  },
  {
   "cell_type": "code",
   "execution_count": 25,
   "metadata": {
    "slideshow": {
     "slide_type": "slide"
    }
   },
   "outputs": [
    {
     "name": "stdout",
     "output_type": "stream",
     "text": [
      "I found the following results:\n",
      "\n",
      "Name:Dan, Surname:Abramov, mail:gaearon@somewhere.com\n",
      "\n"
     ]
    }
   ],
   "source": [
    "book.find_by_name('Dan')"
   ]
  },
  {
   "cell_type": "code",
   "execution_count": 26,
   "metadata": {},
   "outputs": [
    {
     "name": "stdout",
     "output_type": "stream",
     "text": [
      "Name:Cassio, Surname:Zen, mail:cassiozen@gmail.com\n",
      "\n",
      "Name:Pete, Surname:Hunt, mail:floydophone@somewhere.com\n",
      "\n",
      "Name:Paul, Surname:Shannessy, mail:zpao@somewhere.com\n",
      "\n",
      "Name:Ryan, Surname:Florence, mail:rpflorence@somewhere.com\n",
      "\n",
      "Name:Sebastian, Surname:Markbage, mail:sebmarkbage@here.com\n",
      "\n"
     ]
    }
   ],
   "source": [
    "book.remove_contact('Dan')\n",
    "book.show()"
   ]
  },
  {
   "cell_type": "code",
   "execution_count": 27,
   "metadata": {},
   "outputs": [],
   "source": [
    "book.add_contact('Peter','Parker','notspiderman@marvel.com')"
   ]
  },
  {
   "cell_type": "code",
   "execution_count": 28,
   "metadata": {
    "slideshow": {
     "slide_type": "slide"
    }
   },
   "outputs": [
    {
     "name": "stdout",
     "output_type": "stream",
     "text": [
      "Name:Cassio, Surname:Zen, mail:cassiozen@gmail.com\n",
      "\n",
      "Name:Pete, Surname:Hunt, mail:floydophone@somewhere.com\n",
      "\n",
      "Name:Paul, Surname:Shannessy, mail:zpao@somewhere.com\n",
      "\n",
      "Name:Ryan, Surname:Florence, mail:rpflorence@somewhere.com\n",
      "\n",
      "Name:Sebastian, Surname:Markbage, mail:sebmarkbage@here.com\n",
      "\n",
      "Name:Peter, Surname:Parker, mail:notspiderman@marvel.com\n",
      "\n"
     ]
    }
   ],
   "source": [
    "book.show()"
   ]
  },
  {
   "cell_type": "markdown",
   "metadata": {},
   "source": [
    "Once you've done this you can now create a client to use the functions you implemented in a \"user-frienldy way\"\n",
    "The result should be something like the following"
   ]
  },
  {
   "cell_type": "markdown",
   "metadata": {
    "slideshow": {
     "slide_type": "slide"
    }
   },
   "source": [
    "~~~\n",
    "Welcome to the application to manage your contacts\n",
    "Press 's' tho show the list of contacts\n",
    "Press 'n' to add a contact\n",
    "Press 'f' to find a contact\n",
    "Press 'd' to delete a contact\n",
    "Press 'q' to quit\n",
    " s\n",
    "Name:Cassio, Surname:Zen, mail:cassiozen@gmail.com\n",
    "\n",
    "Name:Dan, Surname:Abramov, mail:gaearon@somewhere.com\n",
    "\n",
    "Name:Pete, Surname:Hunt, mail:floydophone@somewhere.com\n",
    "\n",
    "Name:Paul, Surname:Shannessy, mail:zpao@somewhere.com\n",
    "\n",
    "Name:Ryan, Surname:Florence, mail:rpflorence@somewhere.com\n",
    "\n",
    "Name:Sebastian, Surname:Markbage, mail:sebmarkbage@here.com\n",
    "\n",
    "Press 's' tho show the list of contacts\n",
    "Press 'n' to add a contact\n",
    "Press 'f' to find a contact\n",
    "Press 'd' to delete a contact\n",
    "Press 'q' to quit\n",
    " g\n",
    "Command not available\n",
    "Press 's' tho show the list of contacts\n",
    "Press 'n' to add a contact\n",
    "Press 'f' to find a contact\n",
    "Press 'd' to delete a contact\n",
    "Press 'q' to quit\n",
    " q\n",
    "~~~"
   ]
  },
  {
   "cell_type": "markdown",
   "metadata": {},
   "source": [
    "Exercise 4\n",
    "---\n"
   ]
  },
  {
   "cell_type": "markdown",
   "metadata": {},
   "source": [
    "The file playerNBA.json contains the list of all the NBA player of this season with their stats and their bio. Each one looks like this\n",
    "~~~\n",
    "{\n",
    "  \"pos\": \"G\",\n",
    "  \"name\": \"Stephen Curry\",\n",
    "  \"hgt\": 75,\n",
    "  \"tid\": 9,\n",
    "  \"injury\": {\n",
    "    \"gamesRemaining\": 0,\n",
    "    \"type\": \"Healthy\"\n",
    "  },\n",
    "  \"born\": {\n",
    "    \"year\": 1988,\n",
    "    \"loc\": \"Akron, OH\"\n",
    "  },\n",
    "  \"weight\": 190,\n",
    "  \"ratings\": [\n",
    "    {\n",
    "      \"diq\": 40,\n",
    "      \"endu\": 74,\n",
    "      \"ins\": 46,\n",
    "      \"pss\": 74,\n",
    "      \"spd\": 86,\n",
    "      \"tp\": 95,\n",
    "      \"jmp\": 88,\n",
    "      \"fg\": 92,\n",
    "      \"stre\": 50,\n",
    "      \"drb\": 61,\n",
    "      \"dnk\": 92,\n",
    "      \"oiq\": 73,\n",
    "      \"reb\": 49,\n",
    "      \"ft\": 78,\n",
    "      \"hgt\": 34\n",
    "    }\n",
    "  ],\n",
    "  \"draft\": {\n",
    "    \"tid\": 9,\n",
    "    \"pick\": 7,\n",
    "    \"originalTid\": 9,\n",
    "    \"year\": 2009,\n",
    "    \"round\": 1\n",
    "  }\n",
    "}\n",
    "~~~"
   ]
  },
  {
   "cell_type": "markdown",
   "metadata": {},
   "source": [
    "The first step is to analize the data, so we need to create the function to evaluate:\n",
    "   1. The average **ratings** among the players\n",
    "   2. The average **height** and **weigth** (in meters and kilograms while they're store in inches and pounds)\n",
    "   3. The average age \n",
    "\n",
    "You should be able to obtain results like the one below"
   ]
  },
  {
   "cell_type": "code",
   "execution_count": 1,
   "metadata": {},
   "outputs": [],
   "source": [
    "from Exercise_4 import *\n",
    "import json\n",
    "file_content=json.load(open('playerNBA.json'))"
   ]
  },
  {
   "cell_type": "code",
   "execution_count": 2,
   "metadata": {},
   "outputs": [
    {
     "data": {
      "text/plain": [
       "{'diq': 40.86353211009176,\n",
       " 'dnk': 60.25573394495405,\n",
       " 'drb': 44.97018348623852,\n",
       " 'endu': 41.286697247706385,\n",
       " 'fg': 54.263761467889935,\n",
       " 'ft': 51.10206422018341,\n",
       " 'hgt': 48.36353211009177,\n",
       " 'ins': 45.02981651376154,\n",
       " 'jmp': 53.35206422018351,\n",
       " 'oiq': 46.380733944954095,\n",
       " 'pss': 42.470183486238454,\n",
       " 'reb': 48.62729357798164,\n",
       " 'spd': 53.27752293577975,\n",
       " 'stre': 46.24885321100917,\n",
       " 'tp': 44.92316513761466}"
      ]
     },
     "execution_count": 2,
     "metadata": {},
     "output_type": "execute_result"
    }
   ],
   "source": [
    "average_ratings(file_content)"
   ]
  },
  {
   "cell_type": "code",
   "execution_count": 3,
   "metadata": {},
   "outputs": [
    {
     "data": {
      "text/plain": [
       "2.0031959788690217"
      ]
     },
     "execution_count": 3,
     "metadata": {},
     "output_type": "execute_result"
    }
   ],
   "source": [
    "average_heigth(file_content)"
   ]
  },
  {
   "cell_type": "code",
   "execution_count": 2,
   "metadata": {},
   "outputs": [
    {
     "data": {
      "text/plain": [
       "97.63100959038039"
      ]
     },
     "execution_count": 2,
     "metadata": {},
     "output_type": "execute_result"
    }
   ],
   "source": [
    "average_weigth(file_content)"
   ]
  },
  {
   "cell_type": "code",
   "execution_count": 3,
   "metadata": {},
   "outputs": [
    {
     "data": {
      "text/plain": [
       "26.212155963302752"
      ]
     },
     "execution_count": 3,
     "metadata": {},
     "output_type": "execute_result"
    }
   ],
   "source": [
    "average_age(file_content)"
   ]
  },
  {
   "cell_type": "code",
   "execution_count": null,
   "metadata": {},
   "outputs": [],
   "source": []
  }
 ],
 "metadata": {
  "kernelspec": {
   "display_name": "Python 3",
   "language": "python",
   "name": "python3"
  },
  "language_info": {
   "codemirror_mode": {
    "name": "ipython",
    "version": 3
   },
   "file_extension": ".py",
   "mimetype": "text/x-python",
   "name": "python",
   "nbconvert_exporter": "python",
   "pygments_lexer": "ipython3",
   "version": "3.5.2"
  }
 },
 "nbformat": 4,
 "nbformat_minor": 2
}
