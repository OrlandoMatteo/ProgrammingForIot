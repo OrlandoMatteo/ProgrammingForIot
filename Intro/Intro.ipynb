{
 "cells": [
  {
   "cell_type": "markdown",
   "metadata": {},
   "source": [
    "How to install Python3\n",
    "===\n",
    "For Windows\n",
    "---\n",
    " - Download the latest Python release installer for your OS  from [here](https://www.python.org/downloads/)\n",
    " - Launch the installer\n",
    " - **Pay Attention to select add Python to path**  \n",
    " ![Python path](images/pythonpath.png)\n",
    " - Wait until it's done\n",
    " \n",
    "For macOS:\n",
    "---\n",
    "You've two alternatives:\n",
    " 1. Proceed as indicated with windows (but obviously download the installer for mac)\n",
    " 2. If you've brew installed just open a terminal and write \"*brew install python3*\"\n",
    " \n",
    "For Linux:\n",
    "---\n",
    "Python3 should be already available on most Linux of distribution, in the rare case you don't have it you can install it by writing on a terminal \"*sudo |name of the packet manager| install python3*\" (For example in Ubuntu \"*sudo apt-get install python3*\")"
   ]
  },
  {
   "cell_type": "markdown",
   "metadata": {},
   "source": [
    "____________________\n",
    "In any case to check Python wheter has been correctly installed open a terminal and type \"*python3*\" you should see something like this\n",
    "\n",
    "~~~\n",
    "matteo@matteo-desktop ~> python3\n",
    "Python 3.6.8 (default, Aug 20 2019, 17:12:48) \n",
    "[GCC 8.3.0] on linux\n",
    "Type \"help\", \"copyright\", \"credits\" or \"license\" for more information.\n",
    ">>> \n",
    "~~~"
   ]
  },
  {
   "cell_type": "markdown",
   "metadata": {},
   "source": [
    "How to install Sublime Text and set it up for python development(optional)\n",
    "===\n",
    "Installation\n",
    "---\n",
    "Go on the [Sublime website](https://www.sublimetext.com/) and follow the installation guide for your OS\n",
    "Setup for Python (advanced and optional)\n",
    "---\n",
    "The following part is not mandatory Sublime is a nice editor out of the box but can be a lot more useful with some addons, below it's explained how to install two really useful plugins. You can look online to find even more addons and customize Sublime according to your needs.\n",
    "From here proceed at your own risk!\n",
    "\n",
    "Open Sublime, click on the botton letf of the window and select console. A small window should appear at the bottom, copy and paste this code  \n",
    "____________\n",
    "import urllib.request,os,hashlib; h = '6f4c264a24d933ce70df5dedcf1dcaee' + 'ebe013ee18cced0ef93d5f746d80ef60'; pf = 'Package Control.sublime-package'; ipp = sublime.installed_packages_path(); urllib.request.install_opener( urllib.request.build_opener( urllib.request.ProxyHandler()) ); by = urllib.request.urlopen( 'http://packagecontrol.io/' + pf.replace(' ', '%20')).read(); dh = hashlib.sha256(by).hexdigest(); print('Error validating download (got %s instead of %s), please try manual install' % (dh, h)) if dh != h else open(os.path.join( ipp, pf), 'wb' ).write(by) \n",
    "____________\n",
    "and then press enter\n"
   ]
  },
  {
   "cell_type": "markdown",
   "metadata": {},
   "source": [
    "Once the installation is finished go on Preferences and select \"Package Control\". From the list select \"Package control:Install package\", type \"Anaconda\" and select the first result\n",
    "\n"
   ]
  },
  {
   "cell_type": "markdown",
   "metadata": {},
   "source": [
    "Once the package is installed go on \"Preference\">\"Package Settings\">\"Anaconda\">\"Settings-Default\" and on line 251 set ***\"anaconda_linting\": false***"
   ]
  },
  {
   "cell_type": "markdown",
   "metadata": {},
   "source": [
    "Now you should've autocompletion enabled and the editor will show you the documentation of the function you're using\n"
   ]
  },
  {
   "cell_type": "markdown",
   "metadata": {},
   "source": [
    "Go on Preferences and select \"Package Control\". From the list select \"Package control:Install package\", type \"SideBarEnhancements\" and select the first result\n"
   ]
  },
  {
   "cell_type": "code",
   "execution_count": null,
   "metadata": {},
   "outputs": [],
   "source": []
  }
 ],
 "metadata": {
  "kernelspec": {
   "display_name": "Python 3",
   "language": "python",
   "name": "python3"
  },
  "language_info": {
   "codemirror_mode": {
    "name": "ipython",
    "version": 3
   },
   "file_extension": ".py",
   "mimetype": "text/x-python",
   "name": "python",
   "nbconvert_exporter": "python",
   "pygments_lexer": "ipython3",
   "version": "3.6.8"
  }
 },
 "nbformat": 4,
 "nbformat_minor": 2
}
