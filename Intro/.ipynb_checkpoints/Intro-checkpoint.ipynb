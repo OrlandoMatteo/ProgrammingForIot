{
 "cells": [
  {
   "cell_type": "markdown",
   "metadata": {
    "slideshow": {
     "slide_type": "slide"
    }
   },
   "source": [
    "How to install Python3\n",
    "===\n",
    "For Windows\n",
    "---\n",
    " - Download the latest Python release installer for your OS  from [here](https://www.python.org/downloads/)\n",
    " - Launch the installer\n",
    " - **Pay Attention to select add Python to path**  \n",
    " ![Python path](images/pythonpath.png)\n",
    " - Wait until it's done\n",
    " \n",
    "For macOS:\n",
    "---\n",
    "You've two alternatives:  \n",
    "\n",
    " 1. Proceed as indicated with windows (but obviously download the installer for mac)\n",
    " 2. If you've brew installed just open a terminal and write \"*brew install python3*\"\n",
    " \n",
    "For Linux:\n",
    "---\n",
    "Python3 should be already available on most Linux of distribution, in the rare case you don't have it you can install it by writing on a terminal \"*sudo |name of the packet manager| install python3*\" (For example in Ubuntu \"*sudo apt-get install python3*\")"
   ]
  },
  {
   "cell_type": "markdown",
   "metadata": {
    "slideshow": {
     "slide_type": "slide"
    }
   },
   "source": [
    "____________________\n",
    "In any case to check Python wheter has been correctly installed open a terminal and type \"*python3*\" you should see something like this\n",
    "\n",
    "~~~\n",
    "matteo@matteo-desktop ~> python3\n",
    "Python 3.6.8 (default, Aug 20 2019, 17:12:48) \n",
    "[GCC 8.3.0] on linux\n",
    "Type \"help\", \"copyright\", \"credits\" or \"license\" for more information.\n",
    ">>> \n",
    "~~~"
   ]
  },
  {
   "cell_type": "markdown",
   "metadata": {
    "slideshow": {
     "slide_type": "slide"
    }
   },
   "source": [
    "How to install Sublime Text (and set it up for python development optional)\n",
    "===\n",
    "Installation\n",
    "---\n",
    "Go on the [Sublime website](https://www.sublimetext.com/) and follow the installation guide for your OS\n",
    "Setup for Python (advanced and optional)\n",
    "---\n",
    "The following part is not mandatory Sublime is a nice editor out of the box but can be a lot more useful with some addons, below it's explained how to install two really useful plugins. You can look online to find even more addons and customize Sublime according to your needs.\n",
    "From here proceed at your own risk!\n",
    "\n",
    "Open Sublime, click on the botton letf of the window and select console. A small window should appear at the bottom, copy and paste this code:   \n",
    "\n",
    "*import urllib.request,os,hashlib; h = '6f4c264a24d933ce70df5dedcf1dcaee' + 'ebe013ee18cced0ef93d5f746d80ef60'; pf = 'Package Control.sublime-package'; ipp = sublime.installed_packages_path(); urllib.request.install_opener( urllib.request.build_opener( urllib.request.ProxyHandler()) ); by = urllib.request.urlopen( 'http://packagecontrol.io/' + pf.replace(' ', '%20')).read(); dh = hashlib.sha256(by).hexdigest(); print('Error validating download (got %s instead of %s), please try manual install' % (dh, h)) if dh != h else open(os.path.join( ipp, pf), 'wb' ).write(by)*  \n",
    "\n",
    "and then press enter\n"
   ]
  },
  {
   "cell_type": "markdown",
   "metadata": {},
   "source": [
    "Once the installation is finished go on Preferences and select \"Package Control\". From the list select \"Package control:Install package\", type \"Anaconda\" and select the first result\n",
    "\n"
   ]
  },
  {
   "cell_type": "markdown",
   "metadata": {
    "slideshow": {
     "slide_type": "slide"
    }
   },
   "source": [
    "Once the installation is finished go on Preferences and select \"Package Control\". From the list select \"Package control:Install package\", type \"Anaconda\" and select the first result\n",
    "\n",
    "\n",
    "\n",
    "Once the package is installed go on \"Preference\">\"Package Settings\">\"Anaconda\">\"Settings-Default\" and on line 251 set ***\"anaconda_linting\": false***\n",
    "\n",
    "Now you should've autocompletion enabled and the editor will show you the documentation of the function you're using\n",
    "\n",
    "\n",
    "Go on Preferences and select \"Package Control\". From the list select \"Package control:Install package\", type \"SideBarEnhancements\" and select the first result\n"
   ]
  },
  {
   "cell_type": "markdown",
   "metadata": {
    "slideshow": {
     "slide_type": "slide"
    }
   },
   "source": [
    "How to launch a Python script\n",
    "===\n",
    "Launching a Python script is quite easy, these are the steps to follow:  \n",
    "\n",
    " 1. Open a new terminal (Command line for Windows)\n",
    " 2. Navigate to the folder , \"_cd name of the folder_\" to open a folder , \"_dir_\" top list the file in the folder (\"_ls_\" for Linux)\n",
    " 3. type \"_python |name of the file|.py_\"  \n",
    " \n",
    "For the rest of the course we will always launch our Python scripts in this way"
   ]
  },
  {
   "cell_type": "markdown",
   "metadata": {
    "slideshow": {
     "slide_type": "slide"
    }
   },
   "source": [
    "Exercises\n",
    "===\n",
    "Exercise 0\n",
    "---\n",
    "Before anything you want to define the \"main\" as you would do in C. In Python we can do this like it's shown below\n"
   ]
  },
  {
   "cell_type": "code",
   "execution_count": 4,
   "metadata": {
    "slideshow": {
     "slide_type": "slide"
    }
   },
   "outputs": [],
   "source": [
    "if __name__==\"__main__\":\n",
    "    #This is the main\n",
    "    pass"
   ]
  },
  {
   "cell_type": "markdown",
   "metadata": {
    "slideshow": {
     "slide_type": "subslide"
    }
   },
   "source": [
    "**Remember that in Python indentation take places of the bracket**, we will see going on with the exercise what this means"
   ]
  },
  {
   "cell_type": "markdown",
   "metadata": {
    "slideshow": {
     "slide_type": "slide"
    }
   },
   "source": [
    "Exercise 1\n",
    "---\n",
    "**Print**  \n",
    "Printing in python is really easy, you've just to type\n",
    "~~~\n",
    "print (\"what you want to print\")\n",
    "~~~\n",
    "An example is shown below"
   ]
  },
  {
   "cell_type": "code",
   "execution_count": 5,
   "metadata": {
    "slideshow": {
     "slide_type": "slide"
    }
   },
   "outputs": [
    {
     "name": "stdout",
     "output_type": "stream",
     "text": [
      "Sentence to print\n"
     ]
    }
   ],
   "source": [
    "if __name__==\"__main__\":\n",
    "    #This is the main\n",
    "    print (\"Sentence to print\")"
   ]
  },
  {
   "cell_type": "markdown",
   "metadata": {
    "slideshow": {
     "slide_type": "slide"
    }
   },
   "source": [
    "Now try to write and launch your Python script and print some words/sentences, you will see that contrarily to C python will print the content of each _print()_ in a new line"
   ]
  },
  {
   "cell_type": "markdown",
   "metadata": {
    "slideshow": {
     "slide_type": "slide"
    }
   },
   "source": []
  },
  {
   "cell_type": "markdown",
   "metadata": {
    "slideshow": {
     "slide_type": "slide"
    }
   },
   "source": [
    "Exercise 2\n",
    "---\n",
    "**Print with placeholder**  \n",
    "In a lot of case you want to print things like  \n",
    "\n",
    "~~~\n",
    "the average of the values is: 5.4\n",
    "~~~  \n",
    "\n",
    "In general you would like to print a string and the value of a variable or multiple variable. There a lot of way to print in Python, we will see just 2 of them.  "
   ]
  },
  {
   "cell_type": "markdown",
   "metadata": {
    "slideshow": {
     "slide_type": "slide"
    }
   },
   "source": [
    "___First method___   \n",
    "The first method consists in using placeholder with \"%\" like you would do in C, there are different type of plceholder, you will mainly use the following:  \n",
    "\n",
    " - %s to print string\n",
    " - %d to print integer\n",
    " - %f to print float\n",
    " - %e to print in exponential form  \n",
    "\n",
    "So an example could be:  \n",
    "\n",
    "~~~\n",
    "print(\"My name is %s\" %myName)\n",
    "~~~  \n",
    "\n",
    "In case of floating point number you can specify the number of digits after the comma by writing \"_%.**n**f_\" where n is the number of digits so for example if we want to have 3 digits we would write \"%.3f\". This method will work also with \"%s\" but in that case the number will specify the number of **characters** that will be used (including the \".\"). If you want to specify multiple variable you will write  \n",
    "\n",
    "~~~\n",
    "print(\" %s  %d %f\" %(a,b,c))\n",
    "~~~  "
   ]
  },
  {
   "cell_type": "markdown",
   "metadata": {
    "slideshow": {
     "slide_type": "slide"
    }
   },
   "source": [
    "___Second method___  \n",
    "The second method use the letter \"f\", in this case the placeholder is the same for every type of variable and is \"_{variable}_\", so the example we saw before would become:  \n",
    "\n",
    "~~~\n",
    "print(f\"My name is {myname}\")\n",
    "~~~  \n",
    "\n",
    "In this case if we eant to print multiple variable we would write:  \n",
    "\n",
    "~~~\n",
    "print(f\"{a} {b} {c}\")\n",
    "~~~  \n",
    "\n",
    "Whit this method you can also specify the total number of digits by writing \"_{:.**n**}_\" where n is the **total** number of digits so if for example we want to write pi with 3 decimal digits we would write  \n",
    "\n",
    "~~~  \n",
    "pi=3.15169265\n",
    "print(f\"{pi:.4}\").  \n",
    "~~~  "
   ]
  },
  {
   "cell_type": "markdown",
   "metadata": {
    "slideshow": {
     "slide_type": "slide"
    }
   },
   "source": [
    "Now try to use both this method to write a Python script that give as output your nam, your age and your birthday in this way:  \n",
    "\n",
    "~~~\n",
    "My name is Python and I'm 28 years old, I was born the 20/02/1991\n",
    "~~~"
   ]
  },
  {
   "cell_type": "markdown",
   "metadata": {
    "slideshow": {
     "slide_type": "slide"
    }
   },
   "source": [
    "Exercise 3\n",
    "---\n",
    "**Math operators**  \n",
    "In python we can use a lot of mathematical operators let's check which they are:  \n",
    "\n",
    " - \"+\" plus\n",
    " - \"-\" minus\n",
    " - \"/\" slash\n",
    " - \"//\" double-slash\n",
    " - \"*\" asterisk\n",
    " - \"%\" percent\n",
    " - \"<\" less-than\n",
    " - \">\" greater-than\n",
    " - \"<=\" less-than-equal\n",
    " - \">=\" greater-than-equal\n",
    " - \"==\" equals  \n",
    "\n",
    "To try to understand what they do let's write a python script with one operation for each of them, something like the one below:"
   ]
  },
  {
   "cell_type": "code",
   "execution_count": 10,
   "metadata": {
    "slideshow": {
     "slide_type": "slide"
    }
   },
   "outputs": [
    {
     "name": "stdout",
     "output_type": "stream",
     "text": [
      "2+3=5\n"
     ]
    }
   ],
   "source": [
    "if __name__==\"__main__\":\n",
    "    print (f\"2+3={2+3}\")\n",
    "    "
   ]
  },
  {
   "cell_type": "markdown",
   "metadata": {
    "slideshow": {
     "slide_type": "slide"
    }
   },
   "source": [
    "Exercise 4\n",
    "---\n",
    "**Ask user input**  \n",
    "The function to ask inputs from user in Python is simply \"_input()_\". For example if we want to ask to the user to insert  anumber we would write:  \n",
    "\n",
    "~~~\n",
    "number=input(\" Please write a number\")\n",
    "~~~  \n",
    "\n",
    "That is quite easy so let's try to write a script that ask the user his name and his age and his height and reply somthing like:  \n",
    "\n",
    "~~~\n",
    "So you're Mt. Everest you're 60000 years old and you're tall 8848 m...\n",
    "~~~"
   ]
  },
  {
   "cell_type": "markdown",
   "metadata": {
    "slideshow": {
     "slide_type": "slide"
    }
   },
   "source": [
    "Exercise 5\n",
    "---\n",
    "**Reading and Writing file**\n",
    "Reading and writing file in Python is really easy, the function you need are the following: "
   ]
  },
  {
   "cell_type": "markdown",
   "metadata": {
    "slideshow": {
     "slide_type": "slide"
    }
   },
   "source": [
    "___open()___  \n",
    "this function returns an oject of the type file  \n",
    "\n",
    "~~~\n",
    "##Example\n",
    "\n",
    "#Open file in reading mode\n",
    "f=open('myFile.txt')\n",
    "\n",
    "#Open file in writing mode\n",
    "f=open('myFile.txt','w')\n",
    "\n",
    "#Open file in append mode\n",
    "f=open('myFile.txt','a')\n",
    "~~~  "
   ]
  },
  {
   "cell_type": "markdown",
   "metadata": {
    "slideshow": {
     "slide_type": "slide"
    }
   },
   "source": [
    "___read()___  \n",
    "this function return the whole content  of the file as a string  \n",
    "\n",
    "~~~\n",
    "##Example\n",
    "\n",
    "#Open and read the content of the file \"myFile.txt\"\n",
    "f=open('myFile.txt')\n",
    "fileContent=f.read()\n",
    "~~~  "
   ]
  },
  {
   "cell_type": "markdown",
   "metadata": {
    "slideshow": {
     "slide_type": "slide"
    }
   },
   "source": [
    "___readline()___  \n",
    "this function return one line of the file as a string  \n",
    "\n",
    "~~~\n",
    "##Example\n",
    "\n",
    "#Open the file \"myFile.txt\" and read one line\n",
    "f=open('myFile.txt')\n",
    "fileLine=f.readline()\n",
    "~~~  "
   ]
  },
  {
   "cell_type": "markdown",
   "metadata": {
    "slideshow": {
     "slide_type": "slide"
    }
   },
   "source": [
    "___write()___\n",
    "this function write on a file  \n",
    "\n",
    "~~~\n",
    "#Open the file \"myFile.txt\" and write one line\n",
    "f=open('myFile.txt','w')\n",
    "f.write('line to write')\n",
    "~~~  "
   ]
  },
  {
   "cell_type": "markdown",
   "metadata": {
    "slideshow": {
     "slide_type": "slide"
    }
   },
   "source": [
    "___close()___\n",
    "this function closes the file  \n",
    "\n",
    "~~~\n",
    "#Open the file \"myFile.txt\", write one line and close the file\n",
    "f=open('myFile.txt','w')\n",
    "f.write('line to write')\n",
    "f.close()\n",
    "~~~  "
   ]
  },
  {
   "cell_type": "markdown",
   "metadata": {
    "slideshow": {
     "slide_type": "slide"
    }
   },
   "source": [
    "As exercise create 2 file: \"original.txt\" with some random conten and an empty file called \"copy.txt\", then write a python script to open the first file, shows its content on the terminal and write the content of \"original.txt\" in \"copy.txt\" but add at the beginning \"the content of the original file is:\". So the result should look like this.  "
   ]
  },
  {
   "cell_type": "markdown",
   "metadata": {
    "slideshow": {
     "slide_type": "slide"
    }
   },
   "source": [
    "_original.txt_  \n",
    "\n",
    "Lorem ipsum dolor sit amet, consectetur adipiscing elit, sed do eiusmod tempor incididunt ut labore et dolore magna aliqua. Ut enim ad minim veniam, quis nostrud exercitation ullamco laboris nisi ut aliquip ex ea commodo consequat. Duis aute irure dolor in reprehenderit in voluptate velit esse cillum dolore eu fugiat nulla pariatur. Excepteur sint occaecat cupidatat non proident, sunt in culpa qui officia deserunt mollit anim id est laborum.\"  \n",
    "\n",
    "_copyt.txt_  \n",
    "\n",
    "\"The content of the original file is:  \n",
    "Lorem ipsum dolor sit amet, consectetur adipiscing elit, sed do eiusmod tempor incididunt ut labore et dolore magna aliqua. Ut enim ad minim veniam, quis nostrud exercitation ullamco laboris nisi ut aliquip ex ea commodo consequat. Duis aute irure dolor in reprehenderit in voluptate velit esse cillum dolore eu fugiat nulla pariatur. Excepteur sint occaecat cupidatat non proident, sunt in culpa qui officia deserunt mollit anim id est laborum.\""
   ]
  },
  {
   "cell_type": "markdown",
   "metadata": {
    "slideshow": {
     "slide_type": "slide"
    }
   },
   "source": [
    "Exercise 6\n",
    "---\n",
    "**If-elif-else**  \n",
    "The easiest way to show how _if-elif-else_ works is by making an example. So let's see a script that asks to the user two number and tells if the first is greater, smaller or equal to the second\n"
   ]
  },
  {
   "cell_type": "code",
   "execution_count": 1,
   "metadata": {
    "slideshow": {
     "slide_type": "slide"
    }
   },
   "outputs": [
    {
     "name": "stdout",
     "output_type": "stream",
     "text": [
      "Write a number5\n",
      "Write another number8\n",
      "5 is smaller than 8\n"
     ]
    }
   ],
   "source": [
    "if __name__==\"__main__\":\n",
    "    #Receive two number as input\n",
    "    a=int(input('Write a number\\n'))\n",
    "    b=int(input('Write another number\\n'))\n",
    "    \n",
    "    #First case a>b\n",
    "    if a>b:\n",
    "        print(f\"{a} is greater than {b}\")\n",
    "    #Second case a<b\n",
    "    elif a<b:\n",
    "        print(f\"{a} is smaller than {b}\")\n",
    "    #All the other case\n",
    "    else:\n",
    "        print(f\"{a} equals {b}\")"
   ]
  },
  {
   "cell_type": "markdown",
   "metadata": {
    "slideshow": {
     "slide_type": "slide"
    }
   },
   "source": [
    "It's quite self explayining and we can annidate multiple _if-elif-else_ just remember to use the correct indentation, most code editors will do it for you but pay attention to it. You can create complex condition with \"and\" and \"or\".  \n",
    "As exercise write a script that takes as input a number and chech whether it's a multiple of 2 and 3."
   ]
  },
  {
   "cell_type": "markdown",
   "metadata": {
    "slideshow": {
     "slide_type": "slide"
    }
   },
   "source": [
    "Exercise 7\n",
    "---\n",
    "**List, for-loop, while-loop**  \n",
    "As you've seen in the slides in python the \"array\" type is called \"list\" and there it has some particular function related to it:  \n",
    "\n",
    " - _list[i]_  \n",
    "    Return the i-th element of the list\n",
    "    \n",
    " - _list.append(x)_  \n",
    "    Add an item to the end of the list.\n",
    "\n",
    " - _list.insert(i, x)_  \n",
    "    Insert an item at a given position. The first argument is the index of the element before which to insert\n",
    "\n",
    " - _list.remove(x)_  \n",
    "    Remove the first item from the list whose value is x. It is an error if there is no such item.\n",
    "\n",
    " - _list.pop([i])_  \n",
    "    Remove the item at the given position in the list, and return it. If no index is specified, a.pop() removes and returns the last item in the list. \n",
    "\n",
    " - _list.index(x)_  \n",
    "    Return the index in the list of the first item whose value is x. It is an error if there is no such item.\n",
    "\n",
    " - _list.count(x)_  \n",
    "    Return the number of times x appears in the list.\n",
    "    \n",
    " - _len(list)_  \n",
    "     Return the number of element in the list  \n",
    "\n",
    "**Remember that list in python start at 0**"
   ]
  },
  {
   "cell_type": "markdown",
   "metadata": {
    "slideshow": {
     "slide_type": "slide"
    }
   },
   "source": [
    "The easiest way to show how the _for-loop_  and the _while-loop_ works is by making an example. So let's see a script that creates a list with some number and calculates their sum and their product:\n"
   ]
  },
  {
   "cell_type": "code",
   "execution_count": 19,
   "metadata": {
    "slideshow": {
     "slide_type": "slide"
    }
   },
   "outputs": [
    {
     "name": "stdout",
     "output_type": "stream",
     "text": [
      "The sum of the numbers in the list is 15\n",
      "The product of the numbers in the list in 120\n"
     ]
    }
   ],
   "source": [
    "if __name__==\"__main__\":\n",
    "    numbers=[1,2,3,4,5]\n",
    "    list_len=len(numbers)\n",
    "    \n",
    "    \n",
    "    ##For-loop for the sum\n",
    "    #set sum to 0\n",
    "    sum_of_numbers=0\n",
    "    for i in range(list_len):\n",
    "        #takes the previous value of the sum and add the number at the place i\n",
    "        sum_of_numbers=sum_of_numbers+numbers[i]\n",
    "        #the more \"pythonic\" way to do it is\n",
    "        #sum_of_numbers+=numbers[i]\n",
    "        \n",
    "    ##While-loop for the product\n",
    "    #set counter to 0\n",
    "    i=0\n",
    "    #Set product to 1\n",
    "    product_of_numbers=1\n",
    "    while i<list_len:\n",
    "        #Multiply the old value for the number at place i\n",
    "        product_of_numbers=product_of_numbers*numbers[i]\n",
    "        #Update counter\n",
    "        i=i+1\n",
    "        #the more \"pythonic\" way to do it is\n",
    "        #product_of_numbers*=numbers[i]\n",
    "        #i+=1\n",
    "    print(f\"The sum of the numbers in the list is {sum_of_numbers}\")\n",
    "    print(f\"The product of the numbers in the list in {product_of_numbers}\")"
   ]
  },
  {
   "cell_type": "markdown",
   "metadata": {
    "slideshow": {
     "slide_type": "slide"
    }
   },
   "source": [
    "There is another method to write the _for-loop_ that is a little easier that is  \n",
    "\n",
    "~~~\n",
    "for item in list:\n",
    "~~~  \n",
    "\n",
    "Using this method for the previous example it becomes"
   ]
  },
  {
   "cell_type": "code",
   "execution_count": 21,
   "metadata": {
    "slideshow": {
     "slide_type": "slide"
    }
   },
   "outputs": [
    {
     "name": "stdout",
     "output_type": "stream",
     "text": [
      "The sum of the numbers in the list is 15\n"
     ]
    }
   ],
   "source": [
    "if __name__==\"__main__\":\n",
    "    numbers=[1,2,3,4,5]\n",
    "    sum_of_numbers=0\n",
    "    for item in numbers:\n",
    "        sum_of_numbers+=item\n",
    "    print(f\"The sum of the numbers in the list is {sum_of_numbers}\")"
   ]
  },
  {
   "cell_type": "markdown",
   "metadata": {
    "slideshow": {
     "slide_type": "slide"
    }
   },
   "source": [
    "As exercise write a script to calculate the average, the max and the min of a list of number"
   ]
  },
  {
   "cell_type": "markdown",
   "metadata": {
    "slideshow": {
     "slide_type": "slide"
    }
   },
   "source": [
    "Exercise 8\n",
    "---\n",
    "**Dictionaries**  \n",
    "An really useful datatype of python is \"dict\". Dictionaries are collections of couples of key/value, key are of type string and they are unique for each dict, the value of a dict can be of whatever type :int,float,string,list or even other dict. Let's see an example of dict and what function can be used on a dict."
   ]
  },
  {
   "cell_type": "code",
   "execution_count": 3,
   "metadata": {
    "slideshow": {
     "slide_type": "slide"
    }
   },
   "outputs": [
    {
     "name": "stdout",
     "output_type": "stream",
     "text": [
      "The building type is House\n",
      "building properties:{'id': 1, 'RCODE': 'RM3', 'NAME': 'Mezzanone', 'TOWN': 'Borgo Mezzanone', 'website': 'https://www.ruritage.eu/RHH/Apulia'}\n",
      "The coordinates of the building are:\n",
      "X:15.7094462\n",
      "Y:41.4205881\n"
     ]
    }
   ],
   "source": [
    "if __name__==\"__main__\":\n",
    "    building={ \"type\": \"House\", \n",
    "              \"properties\": {\n",
    "                  \"id\": 1, \n",
    "                  \"RCODE\": \"RM3\", \n",
    "                  \"NAME\": \"Mezzanone\", \n",
    "                  \"TOWN\": \"Borgo Mezzanone\",\n",
    "                  \"website\": \"https://www.ruritage.eu/RHH/Apulia\",\n",
    "              },\n",
    "              \"geometry\": { \n",
    "                  \"type\": \"Point\", \n",
    "                  \"coordinates\":[ 15.7094462, 41.4205881 ] \n",
    "              } \n",
    "             }\n",
    "    #Get the building type\n",
    "    building_type=building['type']\n",
    "    #or\n",
    "    building_type=building.get('type')\n",
    "\n",
    "    print(f\"The building type is {building_type}\")\n",
    "\n",
    "    #Get the properties of the building\n",
    "    building_properties=building['properties']\n",
    "    print(f\"building properties:{building_properties}\")\n",
    "    #to print it pretty you can  do\n",
    "    #print(\"Building properties\")\n",
    "    #for key,value in building_properties.items():\n",
    "    #    print(f\"\\t{key}: {value}\")\n",
    "\n",
    "    #Get the coordinates of the building\n",
    "    building_coordinates=building['geometry']['coordinates']\n",
    "    print(f\"The coordinates of the building are:\\nX:{building_coordinates[0]}\\nY:{building_coordinates[1]}\")"
   ]
  },
  {
   "cell_type": "markdown",
   "metadata": {
    "slideshow": {
     "slide_type": "slide"
    }
   },
   "source": [
    "As exercise write a script that ask as input the data needed to fill the dict defined below and print the dict as output"
   ]
  },
  {
   "cell_type": "code",
   "execution_count": 27,
   "metadata": {
    "slideshow": {
     "slide_type": "fragment"
    }
   },
   "outputs": [],
   "source": [
    "personal_data={\"Name\":\"\",\n",
    "              \"Surname\":\"\",\n",
    "              \"Birth\":{\n",
    "                  \"Place of birth\":\"\",\n",
    "                  \"Birthday\":\"\"\n",
    "              },\n",
    "               \"age\":\"\"\n",
    "              }"
   ]
  },
  {
   "cell_type": "markdown",
   "metadata": {
    "slideshow": {
     "slide_type": "slide"
    }
   },
   "source": [
    "Exercise 9\n",
    "---\n",
    "**Functions**  \n",
    "Functions are usefule to repeat the same operation multiple times without writing the same code multiple times. Let's see an example of a function"
   ]
  },
  {
   "cell_type": "code",
   "execution_count": 4,
   "metadata": {
    "slideshow": {
     "slide_type": "slide"
    }
   },
   "outputs": [
    {
     "name": "stdout",
     "output_type": "stream",
     "text": [
      "0\n",
      "IoTIoT\n",
      "[1, 2, 3, 1, 2, 3]\n"
     ]
    }
   ],
   "source": [
    "def useless_function(argument):\n",
    "    argument_v2=argument+argument\n",
    "    return argument_v2\n",
    "if __name__==\"__main__\":\n",
    "    x=useless_function(0)\n",
    "    print(x)\n",
    "    y=useless_function(\"IoT\")\n",
    "    print(y)\n",
    "    z=useless_function([1,2,3])\n",
    "    print(z)"
   ]
  },
  {
   "cell_type": "markdown",
   "metadata": {
    "slideshow": {
     "slide_type": "slide"
    }
   },
   "source": [
    "As we see in this example we don't need to specify the type of the input of the function, python will understand it by itself (by the way this is a special case due to the fact that int,string and list all support the operator \"+\" in does **not** work) \n",
    "\n",
    "As exercise write 4 function to: add, subtract, multiply and divide two given numbers and print the result"
   ]
  },
  {
   "cell_type": "code",
   "execution_count": null,
   "metadata": {},
   "outputs": [],
   "source": []
  }
 ],
 "metadata": {
  "celltoolbar": "Slideshow",
  "kernelspec": {
   "display_name": "Python 3",
   "language": "python",
   "name": "python3"
  },
  "language_info": {
   "codemirror_mode": {
    "name": "ipython",
    "version": 3
   },
   "file_extension": ".py",
   "mimetype": "text/x-python",
   "name": "python",
   "nbconvert_exporter": "python",
   "pygments_lexer": "ipython3",
   "version": "3.6.8"
  },
  "pdf_metadata": {
   "affiliation": "Freie Universit\\\"at Berlin, Fachbereich Physik, 14195 Berlin, Germany",
   "author": "Julius C. F. Schulz",
   "title": "Amazing Article"
  }
 },
 "nbformat": 4,
 "nbformat_minor": 4
}
