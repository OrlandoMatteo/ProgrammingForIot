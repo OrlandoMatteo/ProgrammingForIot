{
 "cells": [
  {
   "cell_type": "markdown",
   "metadata": {},
   "source": [
    "Get started with Docker\n",
    "===\n"
   ]
  },
  {
   "cell_type": "markdown",
   "metadata": {},
   "source": [
    "## Installation\n",
    "\n",
    "To install docker you can simply follow the instruction you can find at this website [https://docs.docker.com/v17.09/engine/installation/](https://docs.docker.com/v17.09/engine/installation/)"
   ]
  },
  {
   "cell_type": "markdown",
   "metadata": {},
   "source": [
    "When you finished you can check that everything works correctly by opening a terminal and typing \"docker run hello-world\" (you may need to add sudo for macOS and Linux), then you should see something like this"
   ]
  },
  {
   "cell_type": "markdown",
   "metadata": {},
   "source": [
    "![Hello World](images/helloworld.png)"
   ]
  },
  {
   "cell_type": "markdown",
   "metadata": {},
   "source": [
    "If you get that you're ready to proceed with the example below"
   ]
  },
  {
   "cell_type": "markdown",
   "metadata": {},
   "source": [
    "How to use Docker container\n",
    "===\n",
    "![Example applicatio](images/dockerExample.png)"
   ]
  },
  {
   "cell_type": "markdown",
   "metadata": {},
   "source": [
    "We want to create the code for the 3 different actors above and we want assign _Catalog_ and _Sensor_ to two different container, while instead _Monitor_ will run in the \"usual\" way. \n",
    "Before creating the container let's see how the different actors behave in order to have a better understanding. \n"
   ]
  },
  {
   "cell_type": "markdown",
   "metadata": {},
   "source": [
    "Sensor\n",
    "---"
   ]
  },
  {
   "cell_type": "markdown",
   "metadata": {},
   "source": [
    "The script _sensor.py_ is a simple REST client for a temperature and umidity sensor. When the script is launched a put request will be sent to the catalog in order to the _Catalog_ to notify that the sensor is alive and which are his settings (IP address, port, accepted methods). This notification will happen periodically to ensure that the _Catalog_ stays updated. The settings are stored in a file called _settings.json_. The code is written below"
   ]
  },
  {
   "cell_type": "code",
   "execution_count": null,
   "metadata": {},
   "outputs": [],
   "source": [
    "import cherrypy\n",
    "import requests\n",
    "import json\n",
    "import random\n",
    "class SensorREST(object):\n",
    "    exposed=True\n",
    "    def __init__(self):\n",
    "        self.settings=json.load(open('settings.json'))\n",
    "        self.settings['commands']=['hum','temp']\n",
    "        requests.put(self.settings['catalog'],data=json.dumps(self.settings))\n",
    "    def GET(self,*uri,**params):\n",
    "        if len(uri)!=0:\n",
    "            if uri[0]=='hum':\n",
    "                value=random.randint(60,80)\n",
    "            if uri[0]=='temp':\n",
    "                value=random.randint(10,25)\n",
    "            output={'deviceID':self.settings['ID'],str(uri[0]):value}\n",
    "            return json.dumps(output)\n",
    "        else:\n",
    "            return json.dumps(self.settings)\n",
    "    def pingCatalog(self):\n",
    "        requests.put(self.settings['catalog'],data=json.dumps(self.settings))\n",
    "\n",
    "if __name__ == '__main__':\n",
    "    conf={\n",
    "        '/':{\n",
    "                'request.dispatch':cherrypy.dispatch.MethodDispatcher(),\n",
    "                'tool.session.on':True\n",
    "        }\n",
    "    }\n",
    "    s=SensorREST()\n",
    "    cherrypy.config.update({'server.socket_host': '0.0.0.0','server.socket_port': s.settings['port']})\t\n",
    "    cherrypy.tree.mount(s,'/',conf)\n",
    "    cherrypy.engine.start()\n",
    "    while True:\n",
    "        print('sleeping')\n",
    "        s.pingCatalog()\n",
    "        time.sleep(10)\n",
    "    cherrypy.engine.exit()"
   ]
  },
  {
   "cell_type": "markdown",
   "metadata": {},
   "source": [
    "Catalog\n",
    "---\n",
    "The script _catalog.py_ is another REST client, his job is to keep and updated list of the available devices and their setting and to trovide it to toher actor that may need it (in our case _Monitor_). Everytime the _Catalog_ receives a request from a _Sensor_ it will add it to the list of the devices and will store the timestamp of that request. This list is periodically controlled to check if the last timestamp of each of this devices respects a threshold, if the timestamp is too \"old\" the device will be removed from the list. The settings are stored in a file called _settings.json_. The code for the _Catalog_ is below"
   ]
  },
  {
   "cell_type": "code",
   "execution_count": null,
   "metadata": {},
   "outputs": [],
   "source": [
    "import cherrypy\n",
    "import requests\n",
    "import json \n",
    "import time\n",
    "class Catalog(object):\n",
    "    def __init__(self):\n",
    "        self.devices=[]\n",
    "        self.actualTime=time.time()\n",
    "    def addDevice(self,devicesInfo):\n",
    "        self.devices.append(devicesInfo)\n",
    "    def updateDevice(self,deviceID,devicesInfo):\n",
    "        for i in range(len(self.devices)):\n",
    "            device=self.devices[i]\n",
    "            if device['ID']==deviceID:\n",
    "                self.devices[i]=devicesInfo\n",
    "    def removeDevices(self,deviceID):\n",
    "        for i in range(len(self.devices)):\n",
    "            device=self.devices[i]\n",
    "            if device['ID']==deviceID:\n",
    "                self.devices.pop(i)\n",
    "    def removeInactive(self):\n",
    "        self.actualTime=time.time()\n",
    "        for device in self.devices:\n",
    "            if self.actualTime-device['last_update']>4:\n",
    "                self.devices.remove(device)\n",
    "\n",
    "class CatalogREST(object):\n",
    "    exposed=True\n",
    "    def __init__(self,clientID):\n",
    "        self.ID=clientID\n",
    "        self.catalog=Catalog()\n",
    "    def GET(self,*uri,**params):\n",
    "        output={'devices':self.catalog.devices,\"updated\":self.catalog.actualTime}\n",
    "        return json.dumps(output)\n",
    "    def PUT(self):\n",
    "        body=cherrypy.request.body.read()\n",
    "        json_body=json.loads(body.decode('utf-8'))\n",
    "        if not any(d['ID']==json_body['ID'] for d in self.catalog.devices):\n",
    "            last_update=time.time()\n",
    "            json_body['last_update']=last_update\n",
    "            self.catalog.addDevice(json_body)\n",
    "            output=f\"Device with ID {json_body['ID']} has been added\"\n",
    "            print (output)\n",
    "            return output\n",
    "        else:\n",
    "            last_update=time.time()\n",
    "            json_body['last_update']=last_update\n",
    "            self.catalog.updateDevice(json_body['ID'],json_body)\n",
    "            return json_body\n",
    "\n",
    "    def DELETE(self,*uri):\n",
    "        self.catalog.removeDevices(uri[0])\n",
    "        output=f\"Device with ID {uri[0]} has been removed\"\n",
    "        print (output)\n",
    "\n",
    "\n",
    "if __name__ == '__main__':\n",
    "    catalogClient=CatalogREST('Catalog')\n",
    "    conf={\n",
    "        '/':{\n",
    "                'request.dispatch':cherrypy.dispatch.MethodDispatcher(),\n",
    "                'tool.session.on':True\n",
    "        }\n",
    "    }\n",
    "    cherrypy.config.update({'server.socket_host': '0.0.0.0','server.socket_port': 8080})\n",
    "    cherrypy.tree.mount(catalogClient,'/',conf)\n",
    "    cherrypy.engine.start()\n",
    "    while True:\n",
    "        catalogClient.catalog.removeInactive()\n",
    "        time.sleep(5)\n",
    "    cherrypy.engine.exit()"
   ]
  },
  {
   "cell_type": "markdown",
   "metadata": {},
   "source": [
    "Monitor\n",
    "---\n",
    "The script _monitor.py_ it's a simple script to monitor retrieve the value of the available devices. It's able to get the list of available devices from the _Catalog_ and it will show the data coming from the chosen devices. The code is below\n"
   ]
  },
  {
   "cell_type": "code",
   "execution_count": null,
   "metadata": {},
   "outputs": [],
   "source": [
    "import requests\n",
    "import json\n",
    "import time\n",
    "class Viewer(object):\n",
    "    \"\"\"docstring for Viewer\"\"\"\n",
    "    def __init__(self):\n",
    "        self.catalogInfo=json.load(open(\"settings.json\"))\n",
    "        self.devices=self.getDevices()\n",
    "\n",
    "    def getDevices(self):\n",
    "        response=requests.get(self.catalogInfo['catalogURL']).json()\n",
    "        print('List of available devices obtained')\n",
    "        return  response['devices']\n",
    "\n",
    "    def listDevices(self):\n",
    "        print('This are the available devices:')\n",
    "        for device in self.devices:\n",
    "            print(device['ID'])\n",
    "        idSelected=input(\"Which device to you want to monitor (r to refresh  q to quit)\\n\")\n",
    "        if idSelected!='q':\n",
    "            if idSelected=='r':\n",
    "                self.getDevices()\n",
    "                self.listDevices()\n",
    "            else:\n",
    "                idSelected=int(idSelected)\n",
    "                self.monitor([x for x in self.devices if x['ID']==idSelected][0])\n",
    "        else:\n",
    "            exit()\n",
    "\n",
    "    def monitor(self,device):\n",
    "        print(\"Temp (C)\\tHum(%)\")\n",
    "        end_time=time.time()+4\n",
    "        while time.time()<end_time:\n",
    "            temp=requests.get(device[\"IP\"]+':'+str(device['port'])+'/temp').json()['temp']\n",
    "            hum=requests.get(device[\"IP\"]+':'+str(device['port'])+'/hum').json()['hum']\n",
    "            print(str(temp)+'\\t\\t'+str(hum),end=\"\\r\")\n",
    "            time.sleep(0.5)\n",
    "        self.listDevices()\n",
    "\n",
    "if __name__ == '__main__':\n",
    "    v=Viewer()\n",
    "    v.listDevices()"
   ]
  },
  {
   "cell_type": "markdown",
   "metadata": {},
   "source": [
    "Dockerfile creation\n",
    "===\n",
    "In order to create a container for _Catalog_ and _Monitor_ we need two define two _Dockerfile_ that specify their settings: the file to use, the library to install, the command to execute etc. As we did before with the code we will analyze each actor separately\n",
    "\n",
    "Requirements definition\n",
    "---\n",
    "The first thing to do before creating the dockerfile is to create a file calle _requirements.txt_ containing all the library that we need for our script. To do this there are 2 main ways:  \n",
    "\n",
    "__First method__ \n",
    "\n",
    "For each of the library we import in our script we must run in the terminal the following command _\"pip3 show <name of the library\\>\"_ (in some cases you can use pip instead of pip3) and we should see something like this\n",
    "\n",
    "![pip show](images/pipshow.png)\n",
    "\n",
    "form this result we need the _Name_ and the _Version_, which we will write in the file _requirements.txt_, in this case it would be\n",
    "\n",
    "~~~\n",
    "CherryPy==18.1.2\n",
    "~~~\n",
    "\n",
    "We must do this operation for all the library that are not \"standard\" adding a new line in the file for each of them (for example we can avoid it for the library _json_ and _time_)\n",
    "\n",
    "__Second method__\n",
    "\n",
    "The second method is the easiest to use but it require to install pipreqs by running  on the terminal the comand _\"pip3 install pipreqs\"_ (also in this case sometimes pip is enough). Once the installation is finished you can create the file _requirements.txt_ buy running the following command _\"pipreqs <path of the folder with the scripts\\>\"_"
   ]
  },
  {
   "cell_type": "markdown",
   "metadata": {},
   "source": [
    "Sensor Dockerfile\n",
    "---\n",
    "So the first thing to do is creating _requirements.txt_. Once we've done that we can can create a new file called _Dockerfile_ with no extension (no .txt no .py etc).\n",
    "The first thing to write in the file is which language we're going to use, in our case it's Python 3 so we're going to write\n",
    "\n",
    "~~~\n",
    "FROM python:3\n",
    "~~~\n",
    "The next thing to do is to _ADD_ each file we're going to use specifing the path of origin and the destination. In the case of the sensor the file used are _sensor.py_, _settings.json_ and _requirements.txt_ so we will write\n",
    "\n",
    "~~~\n",
    "#ADD <origin> <destination>\n",
    "ADD sensor.py /\n",
    "ADD settings.json /\n",
    "ADD requirements.txt /\n",
    "~~~\n",
    "\n",
    "After that we want to install all the library specified in the file _requirements.txt_. To do this we write\n",
    "\n",
    "~~~\n",
    "RUN pip3 install -r requirements.txt\n",
    "~~~\n",
    "\n",
    "The last thing we need to do is specify which comand to execute to start our script, so in this case\n",
    "\n",
    "~~~\n",
    "#CMD <comma-separated list of command>\n",
    "CMD [\"python3\",\"./sensor.py\"]\n",
    "~~~\n",
    "\n",
    "So at the end our dockerfile for _Sensor_ will look like this\n",
    "\n",
    "~~~\n",
    "FROM python:3\n",
    "ADD sensor.py /\n",
    "ADD settings.json /\n",
    "ADD requirements.txt /\n",
    "RUN pip3 install -r requirements.txt\n",
    "CMD [\"python3\",\"./sensor.py\"]\n",
    "~~~"
   ]
  },
  {
   "cell_type": "markdown",
   "metadata": {},
   "source": [
    "Catalog Dockerfile\n",
    "---\n",
    "The process is similar to the one explained above, at the end we should have something like \n",
    "\n",
    "~~~\n",
    "FROM python:3\n",
    "ADD catalog.py /\n",
    "ADD requirements.txt /\n",
    "RUN pip3 install -r requirements.txt\n",
    "CMD [\"python3\",\"./catalog.py\"]\n",
    "~~~\n"
   ]
  },
  {
   "cell_type": "markdown",
   "metadata": {},
   "source": [
    "Build and run and image inside a container\n",
    "===\n",
    "\n",
    "Build\n",
    "---\n",
    "\n",
    "To build the image of the docker we need to:\n",
    "\n",
    "- Open the terminal\n",
    "- go in the folder where the Dockerfile is located\n",
    "- type \"docker build . -t <tagForTheImage\\>\"\n",
    "\n",
    "After doing that docker will start to download the needed version of the python and the libraries we specified in the file _requirements.txt_.  \n",
    "For our case we need to do that bot for the catalog and the sensor.\n"
   ]
  },
  {
   "cell_type": "markdown",
   "metadata": {},
   "source": [
    "Run\n",
    "---\n",
    "\n",
    "To run a container we simply need to type on the terminal this\n",
    "\n",
    "~~~\n",
    "docker run  --name <NameOfContainer> -p <localPort>:<dockerPort>  <imageTag>\n",
    "~~~\n",
    "\n",
    "If you want to run the container in background you can add the option -d before the image tag.\n",
    "\n",
    "We can do this for both the _Catalog_ and the _Sensor_ but we must pay attention to specify **TWO DIFFERENT** local port in order to be able to talk to cboth of them from localhost"
   ]
  },
  {
   "cell_type": "code",
   "execution_count": null,
   "metadata": {},
   "outputs": [],
   "source": []
  }
 ],
 "metadata": {
  "kernelspec": {
   "display_name": "Python 3",
   "language": "python",
   "name": "python3"
  },
  "language_info": {
   "codemirror_mode": {
    "name": "ipython",
    "version": 3
   },
   "file_extension": ".py",
   "mimetype": "text/x-python",
   "name": "python",
   "nbconvert_exporter": "python",
   "pygments_lexer": "ipython3",
   "version": "3.6.9"
  }
 },
 "nbformat": 4,
 "nbformat_minor": 4
}
