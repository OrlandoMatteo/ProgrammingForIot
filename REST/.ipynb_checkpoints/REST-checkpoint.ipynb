{
 "cells": [
  {
   "cell_type": "markdown",
   "metadata": {},
   "source": [
    "Exercise 1\n",
    "==="
   ]
  },
  {
   "cell_type": "markdown",
   "metadata": {},
   "source": [
    "We want to create a we services that is able to read the uri we send as GET request and return the string reversed, the result is shown in the image below"
   ]
  },
  {
   "cell_type": "markdown",
   "metadata": {},
   "source": [
    "![uri reverser](images/uriReverser.png)"
   ]
  },
  {
   "cell_type": "markdown",
   "metadata": {},
   "source": [
    "**Tips and tricks**\n",
    "1. Once you've created your class you can use the code below inside the \"main\" function to configure the server (pay attention to the indentaion!)\n",
    "~~~\n",
    "if __name__ == '__main__':\n",
    "    conf={\n",
    "        '/':{\n",
    "                'request.dispatch':cherrypy.dispatch.MethodDispatcher(),\n",
    "                'tool.session.on':True\n",
    "        }\n",
    "    cherrypy.tree.mount(MyWebService(),'/',conf)\n",
    "    cherrypy.engine.start()\n",
    "    cherrypy.engine.block()\n",
    "~~~"
   ]
  },
  {
   "cell_type": "markdown",
   "metadata": {},
   "source": [
    "Exercise 2\n",
    "==="
   ]
  },
  {
   "cell_type": "markdown",
   "metadata": {},
   "source": [
    "Now let's create a web service similar to the one before but instead we want to pass the string to revert as parameter GET request. In this case the result should be a json that look like this:"
   ]
  },
  {
   "cell_type": "markdown",
   "metadata": {},
   "source": [
    "![paramReverser](images/paramReverser.png)"
   ]
  },
  {
   "cell_type": "markdown",
   "metadata": {},
   "source": [
    "Exercise 3\n",
    "===\n",
    "For this exercise we want to create a web services that receive with a PUT request with a json in the body and send us back the list of keys and the list of value of that json like in the picture below."
   ]
  },
  {
   "cell_type": "markdown",
   "metadata": {},
   "source": [
    "![echo](images/echo.png)"
   ]
  },
  {
   "cell_type": "markdown",
   "metadata": {},
   "source": [
    "**Tips and tricks**\n",
    "1. You can use \"Postman\" available at [this link](https://www.getpostman.com/products) to perform a PUT request to your service\n",
    "2. When you create the json for the body remember to use double quotes (\"\") to indicate the keys and the values to avoid errors."
   ]
  },
  {
   "cell_type": "markdown",
   "metadata": {},
   "source": [
    "Exercise 4\n",
    "---\n",
    "With this exercise we will try to become familiar with REST APIs.\n",
    "At this Link https://github.com/public-apis/public-apis#cryptocurrency you can find a list of free API, to make this exercise choose one of them that doesn't not require authentication (Auth=No).\n",
    "According to the one you choose you've to make a simple client to interact with it and do some basic search (try to find one that provides json as response and not images).\n",
    "Let's make an example.\n",
    "Let's chose the https://exchangeratesapi.io/ and see how the API looks like\n",
    "The three main entry point of the API are:\n",
    "1. https://api.exchangeratesapi.io/latest?base=...\n",
    "With this we need to specify the base currency to obtain the exchange rate \n",
    "2. https://api.exchangeratesapi.io/YYYY-MM-YY\n",
    "To otain the rate of a particular day\n",
    "3. https://api.exchangeratesapi.io/history?start_at=YYYY-MM-YY&end_at=YYYY-MM-YY\n",
    "To obtain the rates in the specified interval\n",
    "\n",
    "Knowing this we want to create a client that allows 3 function:\n",
    "1. Obtain the latest exchange rates by specifying the base currency\n",
    "2. Obtain the exchange rates of a specific day\n",
    "3. Obtain the rates in an interval of days\n",
    "\n",
    "The client looks like this:"
   ]
  },
  {
   "cell_type": "code",
   "execution_count": 3,
   "metadata": {},
   "outputs": [
    {
     "name": "stdin",
     "output_type": "stream",
     "text": [
      "Available command:\n",
      "latest:latest change rate\n",
      "history: historic exchange rates\n",
      "quit:exit\n",
      " latest\n",
      "Which base currency you want:\n",
      "E:Euro\n",
      "U:USD\n",
      "P:GBP\n",
      " E\n"
     ]
    },
    {
     "name": "stdout",
     "output_type": "stream",
     "text": [
      "{\n",
      "    \"date\": \"2019-07-29\",\n",
      "    \"base\": \"EUR\",\n",
      "    \"rates\": {\n",
      "        \"CHF\": 1.1037,\n",
      "        \"BGN\": 1.9558,\n",
      "        \"JPY\": 120.81,\n",
      "        \"HRK\": 7.3805,\n",
      "        \"THB\": 34.308,\n",
      "        \"CAD\": 1.4645,\n",
      "        \"SEK\": 10.5773,\n",
      "        \"INR\": 76.474,\n",
      "        \"PLN\": 4.2806,\n",
      "        \"RUB\": 70.63,\n",
      "        \"ZAR\": 15.8158,\n",
      "        \"MXN\": 21.2046,\n",
      "        \"HKD\": 8.6937,\n",
      "        \"RON\": 4.7287,\n",
      "        \"ISK\": 135.9,\n",
      "        \"HUF\": 327.23,\n",
      "        \"SGD\": 1.525,\n",
      "        \"PHP\": 56.72,\n",
      "        \"BRL\": 4.2104,\n",
      "        \"GBP\": 0.90443,\n",
      "        \"CZK\": 25.613,\n",
      "        \"AUD\": 1.611,\n",
      "        \"TRY\": 6.256,\n",
      "        \"KRW\": 1316.82,\n",
      "        \"CNY\": 7.6648,\n",
      "        \"IDR\": 15588.84,\n",
      "        \"NZD\": 1.6796,\n",
      "        \"DKK\": 7.4668,\n",
      "        \"NOK\": 9.6935,\n",
      "        \"USD\": 1.1119,\n",
      "        \"MYR\": 4.5866,\n",
      "        \"ILS\": 3.9213\n",
      "    }\n",
      "}\n"
     ]
    },
    {
     "name": "stdin",
     "output_type": "stream",
     "text": [
      "Available command:\n",
      "latest:latest change rate\n",
      "history: historic exchange rates\n",
      "quit:exit\n",
      " history\n",
      "Type D for a day and I for and interval\n",
      " D\n",
      "Write the year\n",
      " 2019\n",
      "Write the month\n",
      " 06\n",
      "Write the day\n",
      " 10\n"
     ]
    },
    {
     "name": "stdout",
     "output_type": "stream",
     "text": [
      "{\n",
      "    \"date\": \"2019-06-10\",\n",
      "    \"base\": \"EUR\",\n",
      "    \"rates\": {\n",
      "        \"CHF\": 1.12,\n",
      "        \"BGN\": 1.9558,\n",
      "        \"JPY\": 122.78,\n",
      "        \"HRK\": 7.4163,\n",
      "        \"THB\": 35.423,\n",
      "        \"CAD\": 1.5004,\n",
      "        \"SEK\": 10.6455,\n",
      "        \"INR\": 78.6445,\n",
      "        \"PLN\": 4.2639,\n",
      "        \"RUB\": 73.1393,\n",
      "        \"ZAR\": 16.7993,\n",
      "        \"MXN\": 21.7522,\n",
      "        \"HKD\": 8.8634,\n",
      "        \"RON\": 4.7196,\n",
      "        \"ISK\": 140.1,\n",
      "        \"HUF\": 320.21,\n",
      "        \"SGD\": 1.5453,\n",
      "        \"PHP\": 58.869,\n",
      "        \"BRL\": 4.3877,\n",
      "        \"GBP\": 0.89248,\n",
      "        \"CZK\": 25.626,\n",
      "        \"AUD\": 1.6235,\n",
      "        \"TRY\": 6.5511,\n",
      "        \"KRW\": 1339.72,\n",
      "        \"CNY\": 7.8365,\n",
      "        \"IDR\": 16098.27,\n",
      "        \"NZD\": 1.7086,\n",
      "        \"DKK\": 7.4682,\n",
      "        \"NOK\": 9.7808,\n",
      "        \"USD\": 1.1301,\n",
      "        \"MYR\": 4.7052,\n",
      "        \"ILS\": 4.0512\n",
      "    }\n",
      "}\n"
     ]
    },
    {
     "name": "stdin",
     "output_type": "stream",
     "text": [
      "Available command:\n",
      "latest:latest change rate\n",
      "history: historic exchange rates\n",
      "quit:exit\n",
      " quit\n"
     ]
    }
   ],
   "source": [
    "from client import  *\n",
    "main()\n"
   ]
  },
  {
   "cell_type": "code",
   "execution_count": null,
   "metadata": {},
   "outputs": [],
   "source": []
  }
 ],
 "metadata": {
  "kernelspec": {
   "display_name": "Python 3",
   "language": "python",
   "name": "python3"
  },
  "language_info": {
   "codemirror_mode": {
    "name": "ipython",
    "version": 3
   },
   "file_extension": ".py",
   "mimetype": "text/x-python",
   "name": "python",
   "nbconvert_exporter": "python",
   "pygments_lexer": "ipython3",
   "version": "3.5.2"
  },
  "metadata": {
   "title": "REST with CherryPy"
  }
 },
 "nbformat": 4,
 "nbformat_minor": 2
}
