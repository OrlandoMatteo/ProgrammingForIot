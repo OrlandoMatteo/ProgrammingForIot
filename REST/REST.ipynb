{
 "cells": [
  {
   "cell_type": "markdown",
   "metadata": {},
   "source": [
    "Install and use CherryPy\n",
    "===\n",
    "Install\n",
    "---\n",
    "To install CherryPy just open a terminal and type _\"pip3 install cherrypy\"_\n",
    "\n",
    "\"Hello World\"\n",
    "---\n",
    "Let's create a new file called _\"helloWorld.py\"_ and paste the following code inside it\n",
    "\n"
   ]
  },
  {
   "cell_type": "code",
   "execution_count": null,
   "metadata": {},
   "outputs": [
    {
     "name": "stderr",
     "output_type": "stream",
     "text": [
      "[25/Oct/2019:12:09:04] ENGINE Listening for SIGTERM.\n",
      "[25/Oct/2019:12:09:04] ENGINE Listening for SIGHUP.\n",
      "[25/Oct/2019:12:09:04] ENGINE Listening for SIGUSR1.\n",
      "[25/Oct/2019:12:09:04] ENGINE Bus STARTING\n",
      "[25/Oct/2019:12:09:04] ENGINE Started monitor thread 'Autoreloader'.\n",
      "[25/Oct/2019:12:09:04] ENGINE Serving on http://127.0.0.1:8080\n",
      "[25/Oct/2019:12:09:04] ENGINE Bus STARTED\n"
     ]
    },
    {
     "name": "stdout",
     "output_type": "stream",
     "text": [
      "127.0.0.1 - - [25/Oct/2019:12:09:07] \"GET /Pippo/?a=a&b=b HTTP/1.1\" 200 57 \"\" \"Mozilla/5.0 (X11; Ubuntu; Linux x86_64; rv:70.0) Gecko/20100101 Firefox/70.0\"\n"
     ]
    }
   ],
   "source": [
    "import cherrypy\n",
    "\n",
    "class HelloWorld(object):\n",
    "    exposed=True\n",
    "    def GET(self,*uri,**params):\n",
    "        #Standard output\n",
    "        output=\"Hello World\"\n",
    "        #Check the uri in the requests\n",
    "        #<br> is just used to append the content in a new line \n",
    "        #(<br> is the \\n for HTML)\n",
    "        if len(uri)!=0:\n",
    "            output+='<br>uri: '+','.join(uri)\n",
    "        #Check the parameters in the request\n",
    "        #<br> is just used to append the content in a new line \n",
    "        #(<br> is the \\n for HTML)\n",
    "        if params!={}:\n",
    "            output+='<br>params: '+str(params)\n",
    "        return output\n",
    "\n",
    "if __name__==\"__main__\":\n",
    "    #Standard configuration to serve the url \"localhost:8080\"\n",
    "    conf={\n",
    "        '/':{\n",
    "                'request.dispatch':cherrypy.dispatch.MethodDispatcher(),\n",
    "                'tool.session.on':True\n",
    "        }\n",
    "    }\n",
    "    cherrypy.quickstart(HelloWorld(),'/',conf)"
   ]
  },
  {
   "cell_type": "markdown",
   "metadata": {
    "slideshow": {
     "slide_type": "slide"
    }
   },
   "source": [
    "Exercise 1\n",
    "---"
   ]
  },
  {
   "cell_type": "markdown",
   "metadata": {
    "slideshow": {
     "slide_type": "subslide"
    }
   },
   "source": [
    "We want to create a we services that is able to read the uri we send as GET request and return the string reversed, the result is shown in the image below"
   ]
  },
  {
   "cell_type": "markdown",
   "metadata": {
    "slideshow": {
     "slide_type": "subslide"
    }
   },
   "source": [
    "![uri reverser](images/uriReverser.png)"
   ]
  },
  {
   "cell_type": "markdown",
   "metadata": {
    "slideshow": {
     "slide_type": "subslide"
    }
   },
   "source": [
    "**Tips and tricks**  \n",
    "    \n",
    "   1. Once you've created your class you can use the code below inside the \"main\" function to configure the server (pay attention to the indentaion!)"
   ]
  },
  {
   "cell_type": "markdown",
   "metadata": {
    "slideshow": {
     "slide_type": "subslide"
    }
   },
   "source": [
    "~~~\n",
    "if __name__ == '__main__':\n",
    "    conf={\n",
    "        '/':{\n",
    "                'request.dispatch':cherrypy.dispatch.MethodDispatcher(),\n",
    "                'tool.session.on':True\n",
    "        }\n",
    "    cherrypy.tree.mount(MyWebService(),'/',conf)\n",
    "    cherrypy.engine.start()\n",
    "    cherrypy.engine.block()\n",
    "~~~"
   ]
  },
  {
   "cell_type": "markdown",
   "metadata": {
    "slideshow": {
     "slide_type": "slide"
    }
   },
   "source": [
    "Exercise 2\n",
    "---\n",
    "Now let's create a web service similar to the one before but instead we want to pass the string to revert as parameter GET request. In this case the result should be a json that look like this:"
   ]
  },
  {
   "cell_type": "markdown",
   "metadata": {
    "slideshow": {
     "slide_type": "subslide"
    }
   },
   "source": [
    "![paramReverser](images/paramReverser.png)"
   ]
  },
  {
   "cell_type": "markdown",
   "metadata": {
    "slideshow": {
     "slide_type": "slide"
    }
   },
   "source": [
    "Exercise 3\n",
    "---\n",
    "For this exercise we want to create a web services that receive with a PUT request with a json in the body and send us back the list of keys and the list of value of that json like in the picture below."
   ]
  },
  {
   "cell_type": "markdown",
   "metadata": {
    "slideshow": {
     "slide_type": "subslide"
    }
   },
   "source": [
    "![echo](images/echo.png)"
   ]
  },
  {
   "cell_type": "markdown",
   "metadata": {
    "slideshow": {
     "slide_type": "subslide"
    }
   },
   "source": [
    "**Tips and tricks**\n",
    "    \n",
    "   1. You can use \"Postman\" available at [this link](https://www.getpostman.com/products) to perform a PUT request to your service\n",
    "   2. When you create the json for the body remember to use double quotes (\"\") to indicate the keys and the values to avoid errors."
   ]
  },
  {
   "cell_type": "markdown",
   "metadata": {
    "slideshow": {
     "slide_type": "slide"
    }
   },
   "source": [
    "Exercise 4\n",
    "---\n",
    "With this exercise we will try to become familiar with REST APIs.\n",
    "At [this link](https://github.com/public-apis/public-apis) you can find a list of free API, to make this exercise choose one of them that doesn't not require authentication (Auth=No).\n",
    "According to the one you choose you've to make a simple client to interact with it and do some basic search (try to find one that provides json as response and not images).\n",
    "To make the request to the url you can use [this](https://requests.readthedocs.io/en/master/) python package that you can install writing _\"pip install requests\"_ on your terminal, look at the documentation to understand how you can use it\n",
    "Let's make an example.\n",
    "Let's chose the [exchange-rate api](https://exchangeratesapi.io/) and see how the API looks like\n",
    "The three main entry point of the API are:\n",
    "\n",
    "   1. **https://api.exchangeratesapi.io/latest?base=...**  \n",
    "   With this we need to specify the base currency to obtain the exchange rate\n",
    "   2. **https://api.exchangeratesapi.io/YYYY-MM-YY**  \n",
    "   To otain the rate of a particular day\n",
    "   3. **https://api.exchangeratesapi.io/history?start_at=YYYY-MM-YY&end_at=YYYY-MM-YY**  \n",
    "   To obtain the rates in the specified interval\n",
    "\n",
    "Knowing this we want to create a client that allows 3 function:\n",
    "\n",
    "   1. Obtain the latest exchange rates by specifying the base currency\n",
    "   2. Obtain the exchange rates of a specific day\n",
    "   3. Obtain the rates in an interval of days\n",
    "\n",
    "The client looks like this:"
   ]
  },
  {
   "cell_type": "code",
   "execution_count": 1,
   "metadata": {
    "slideshow": {
     "slide_type": "subslide"
    }
   },
   "outputs": [
    {
     "name": "stdin",
     "output_type": "stream",
     "text": [
      "Available command:\n",
      "latest:latest change rate\n",
      "history: historic exchange rates\n",
      "quit:exit\n",
      " latest\n",
      "Which base currency you want:\n",
      "E:Euro\n",
      "U:USD\n",
      "P:GBP\n",
      " E\n"
     ]
    },
    {
     "name": "stdout",
     "output_type": "stream",
     "text": [
      "{\n",
      "    \"rates\": {\n",
      "        \"CAD\": 1.462,\n",
      "        \"HKD\": 8.6266,\n",
      "        \"ISK\": 136.6,\n",
      "        \"PHP\": 57.712,\n",
      "        \"DKK\": 7.4671,\n",
      "        \"HUF\": 333.96,\n",
      "        \"CZK\": 25.916,\n",
      "        \"AUD\": 1.6122,\n",
      "        \"RON\": 4.734,\n",
      "        \"SEK\": 10.699,\n",
      "        \"IDR\": 15536.74,\n",
      "        \"INR\": 79.147,\n",
      "        \"BRL\": 4.5207,\n",
      "        \"RUB\": 70.7241,\n",
      "        \"HRK\": 7.397,\n",
      "        \"JPY\": 119.23,\n",
      "        \"THB\": 33.701,\n",
      "        \"CHF\": 1.0966,\n",
      "        \"SGD\": 1.5175,\n",
      "        \"PLN\": 4.3416,\n",
      "        \"BGN\": 1.9558,\n",
      "        \"TRY\": 6.3065,\n",
      "        \"CNY\": 7.8249,\n",
      "        \"NOK\": 9.8715,\n",
      "        \"NZD\": 1.7426,\n",
      "        \"ZAR\": 16.278,\n",
      "        \"USD\": 1.1026,\n",
      "        \"MXN\": 21.4919,\n",
      "        \"ILS\": 3.9227,\n",
      "        \"GBP\": 0.88813,\n",
      "        \"KRW\": 1311.65,\n",
      "        \"MYR\": 4.6149\n",
      "    },\n",
      "    \"base\": \"EUR\",\n",
      "    \"date\": \"2019-09-17\"\n",
      "}\n"
     ]
    },
    {
     "name": "stdin",
     "output_type": "stream",
     "text": [
      "Available command:\n",
      "latest:latest change rate\n",
      "history: historic exchange rates\n",
      "quit:exit\n",
      " history\n",
      "Type D for a day and I for and interval\n",
      " D\n",
      "Write the year\n",
      " 2019\n",
      "Write the month\n",
      " 06\n",
      "Write the day\n",
      " 26\n"
     ]
    },
    {
     "name": "stdout",
     "output_type": "stream",
     "text": [
      "{\n",
      "    \"rates\": {\n",
      "        \"CAD\": 1.4947,\n",
      "        \"HKD\": 8.8724,\n",
      "        \"ISK\": 141.5,\n",
      "        \"PHP\": 58.456,\n",
      "        \"DKK\": 7.4651,\n",
      "        \"HUF\": 323.5,\n",
      "        \"CZK\": 25.486,\n",
      "        \"AUD\": 1.6277,\n",
      "        \"RON\": 4.722,\n",
      "        \"SEK\": 10.5435,\n",
      "        \"IDR\": 16097.68,\n",
      "        \"INR\": 78.5705,\n",
      "        \"BRL\": 4.3624,\n",
      "        \"RUB\": 71.6399,\n",
      "        \"HRK\": 7.3956,\n",
      "        \"JPY\": 122.4,\n",
      "        \"THB\": 34.955,\n",
      "        \"CHF\": 1.1113,\n",
      "        \"SGD\": 1.5387,\n",
      "        \"PLN\": 4.2627,\n",
      "        \"BGN\": 1.9558,\n",
      "        \"TRY\": 6.55,\n",
      "        \"CNY\": 7.8139,\n",
      "        \"NOK\": 9.6733,\n",
      "        \"NZD\": 1.7004,\n",
      "        \"ZAR\": 16.2802,\n",
      "        \"USD\": 1.1362,\n",
      "        \"MXN\": 21.7972,\n",
      "        \"ILS\": 4.0825,\n",
      "        \"GBP\": 0.89603,\n",
      "        \"KRW\": 1312.86,\n",
      "        \"MYR\": 4.7124\n",
      "    },\n",
      "    \"base\": \"EUR\",\n",
      "    \"date\": \"2019-06-26\"\n",
      "}\n"
     ]
    },
    {
     "name": "stdin",
     "output_type": "stream",
     "text": [
      "Available command:\n",
      "latest:latest change rate\n",
      "history: historic exchange rates\n",
      "quit:exit\n",
      " quit\n"
     ]
    }
   ],
   "source": [
    "run Exercise_4.py\n"
   ]
  },
  {
   "cell_type": "code",
   "execution_count": null,
   "metadata": {},
   "outputs": [],
   "source": []
  }
 ],
 "metadata": {
  "celltoolbar": "Slideshow",
  "kernelspec": {
   "display_name": "Python 3",
   "language": "python",
   "name": "python3"
  },
  "language_info": {
   "codemirror_mode": {
    "name": "ipython",
    "version": 3
   },
   "file_extension": ".py",
   "mimetype": "text/x-python",
   "name": "python",
   "nbconvert_exporter": "python",
   "pygments_lexer": "ipython3",
   "version": "3.6.8"
  },
  "metadata": {
   "title": "REST with CherryPy"
  }
 },
 "nbformat": 4,
 "nbformat_minor": 2
}
