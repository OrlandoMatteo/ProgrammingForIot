{
 "cells": [
  {
   "cell_type": "markdown",
   "metadata": {},
   "source": [
    "Extra\n",
    "===\n"
   ]
  },
  {
   "cell_type": "markdown",
   "metadata": {},
   "source": [
    "Response with .html files\n",
    "---\n",
    "In most of the cases we want that our server reponds to the request with html files instead of strings, in order to have a proper formatting.\n",
    "To do this with CherryPy we can do as written in the code below"
   ]
  },
  {
   "cell_type": "code",
   "execution_count": null,
   "metadata": {},
   "outputs": [],
   "source": [
    "import cherrypy\n",
    "import os\n",
    "\n",
    "class Example(object):\n",
    "\t\"\"\"docstring for Example\"\"\"\n",
    "\texposed=True\n",
    "\tdef __init__(self):\n",
    "\t\tself.id=1\n",
    "\tdef GET(self):\n",
    "\t\treturn open(\"index.html\")\n",
    "    \n",
    "if __name__ == '__main__':\n",
    "\tconf={\n",
    "\t\t'/':{\n",
    "\t\t\t\t'request.dispatch':cherrypy.dispatch.MethodDispatcher(),\n",
    "\t\t\t\t'tools.staticdir.root': os.path.abspath(os.getcwd()),\n",
    "\t\t\t}\n",
    "\t}\t\t\n",
    "\tcherrypy.tree.mount(Example(),'/',conf)\n",
    "\tcherrypy.engine.start()\n",
    "\tcherrypy.engine.block()"
   ]
  },
  {
   "cell_type": "markdown",
   "metadata": {},
   "source": [
    "As you can see we can just return the result of the open function on the .html file (in the example _open('index.html')_). "
   ]
  },
  {
   "cell_type": "markdown",
   "metadata": {},
   "source": [
    "Add css and javascript\n",
    "---"
   ]
  },
  {
   "cell_type": "markdown",
   "metadata": {},
   "source": [
    "Sometimes we want to give a nicer look to our web page and maybe add some functions. The \"styling\" of the web page can be done with .css files while the function are written in javascript inside .js files. In the material you can find the file \"_index.html_\" and two folder called \"_css_\" and \"_js_\". These script contains all the code to obtain a web page that look like the one below, where clicking on a button set the color of the top rectangle to the selected one.\n"
   ]
  },
  {
   "cell_type": "markdown",
   "metadata": {},
   "source": [
    "![](images/correctPage.png)"
   ]
  },
  {
   "cell_type": "markdown",
   "metadata": {},
   "source": [
    "Now try to launch the code above on your pc, then open a browser and activate the window \"Developer Tools\" (you can find it on the menu on the top right of your browser or you can press Ctrl+shift+i or Cmd+shift+i).\n",
    "Once you've done that go on the \"Network\" tab of the developer tools window and than you can finally go on your website at the address 127.0.0.1:8080.\n",
    "The result should be something like in the image below"
   ]
  },
  {
   "cell_type": "markdown",
   "metadata": {},
   "source": [
    "![](images/no_css_js.png)\n"
   ]
  },
  {
   "cell_type": "markdown",
   "metadata": {},
   "source": [
    "As you can see from the error 404 in  the _Network_ panel of the _Developer Tools_, the browser is not able to find the stylesheet _\"myButton.css\"_ that defines the colors of our button, it also can't find the file _\"myButton.js\"_ that define the behaviour of the buttons when clicked.\n",
    "In order to avoid this errors we must configure our server in CherryPy in order to indicate where this file can be found.\n"
   ]
  },
  {
   "cell_type": "markdown",
   "metadata": {},
   "source": [
    "Before doing this we want to know where our browser is searching this file. To do so, we can open our _\"index.html\"_ with a code editor or we can look at it in the panel _\"Elements\"_ of the window _\"Developer Tools\"_. In both the case at the beginning of the code we can find this lines"
   ]
  },
  {
   "cell_type": "markdown",
   "metadata": {},
   "source": [
    "~~~\n",
    "<link rel=\"stylesheet\" type=\"text/css\" href=\"/css/myButton.css\">\n",
    "<script type=\"text/javascript\" src=\"/js/myButton.js\"></script>\n",
    "~~~"
   ]
  },
  {
   "cell_type": "markdown",
   "metadata": {},
   "source": [
    "So we can see that our browser is expecting to find the .css file in the folder called _\"css\"_ and the javascript file in the folder _\"js\"_. Once that we know that we can modify our python script in order to do so."
   ]
  },
  {
   "cell_type": "code",
   "execution_count": null,
   "metadata": {},
   "outputs": [],
   "source": [
    "import cherrypy\n",
    "import os\n",
    "\n",
    "class Example(object):\n",
    "\t\"\"\"docstring for Example\"\"\"\n",
    "\texposed=True\n",
    "\tdef __init__(self):\n",
    "\t\tself.id=1\n",
    "\tdef GET(self):\n",
    "\t\treturn open(\"index.html\")\n",
    "\n",
    "\n",
    "if __name__ == '__main__':\n",
    "\tconf={\n",
    "\t\t'/':{\n",
    "\t\t\t\t'request.dispatch':cherrypy.dispatch.MethodDispatcher(),\n",
    "\t\t\t\t'tools.staticdir.root': os.path.abspath(os.getcwd()),\n",
    "\t\t\t},\n",
    "        ##LINES ADDED TO PROVIDE THE PATH FOR CSS\n",
    "\t\t '/css':{\n",
    "\t\t 'tools.staticdir.on': True,\n",
    "\t\t 'tools.staticdir.dir':'./css'\n",
    "\t\t },\n",
    "        ##LINES ADDED TO PROVIDE THE PATH FOR JS\n",
    "\t\t '/js':{\n",
    "\t\t 'tools.staticdir.on': True,\n",
    "\t\t 'tools.staticdir.dir':'./js'\n",
    "\t\t },\n",
    "\t}\t\t\n",
    "\tcherrypy.tree.mount(Example(),'/',conf)\n",
    "\tcherrypy.engine.start()\n",
    "\tcherrypy.engine.block()"
   ]
  },
  {
   "cell_type": "markdown",
   "metadata": {},
   "source": [
    "As you can see we added some lines to specify the path for the folder _\"css\"_ and _\"js\"_. If you did this step correctly you should be able to see on your browser the correct results"
   ]
  },
  {
   "cell_type": "code",
   "execution_count": null,
   "metadata": {},
   "outputs": [],
   "source": []
  }
 ],
 "metadata": {
  "kernelspec": {
   "display_name": "Python 3",
   "language": "python",
   "name": "python3"
  },
  "language_info": {
   "codemirror_mode": {
    "name": "ipython",
    "version": 3
   },
   "file_extension": ".py",
   "mimetype": "text/x-python",
   "name": "python",
   "nbconvert_exporter": "python",
   "pygments_lexer": "ipython3",
   "version": "3.6.8"
  }
 },
 "nbformat": 4,
 "nbformat_minor": 2
}
