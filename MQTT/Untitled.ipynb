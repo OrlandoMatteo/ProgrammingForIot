{
 "cells": [
  {
   "cell_type": "markdown",
   "metadata": {},
   "source": [
    "Introduction\n",
    "===\n",
    "![Example of MQTT](images/MQTTexample.png)"
   ]
  },
  {
   "cell_type": "markdown",
   "metadata": {},
   "source": [
    "We could briefly resume the structure of the MQTT communication paradigm in this way, there are 3 type of actors:***Publisher***,***Subscriber***,***Broker***.  \n",
    "The ***Publisher*** is the actor that wants to send messages tagged by a *topic* while the ***Subsciber*** is the actor that wants to receive messages that belong to variable number of topic. The ***Broker*** is the actor in the middle: it receives the messages from all the publisher and forwards each of them to the suscriber according to the *topic*.\n"
   ]
  },
  {
   "cell_type": "code",
   "execution_count": 3,
   "metadata": {},
   "outputs": [],
   "source": [
    "import paho.mqtt.client as PahoMQTT\n",
    "import time\n",
    " \n",
    "class MyPublisher:\n",
    "    def __init__(self, clientID):\n",
    "        self.clientID = clientID\n",
    " \n",
    "        # create an instance of paho.mqtt.client\n",
    "        self._paho_mqtt = PahoMQTT.Client(self.clientID, False) \n",
    "        # register the callback\n",
    "        self._paho_mqtt.on_connect = self.myOnConnect\n",
    " \n",
    "        #self.messageBroker = 'iot.eclipse.org'\n",
    "        self.messageBroker = 'localhost'\n",
    " \n",
    "    def start (self):\n",
    "        #manage connection to broker\n",
    "        self._paho_mqtt.connect(self.messageBroker, 1883)\n",
    "        self._paho_mqtt.loop_start()\n",
    " \n",
    "    def stop (self):\n",
    "        self._paho_mqtt.loop_stop()\n",
    "        self._paho_mqtt.disconnect()\n",
    " \n",
    "    def myPublish(self, topic, message):\n",
    "        # publish a message with a certain topic\n",
    "        self._paho_mqtt.publish(topic, message, 2)\n",
    " \n",
    "    def myOnConnect (self, paho_mqtt, userdata, flags, rc):\n",
    "        print (\"Connected to %s with result code: %d\" % (self.messageBroker, rc))"
   ]
  },
  {
   "cell_type": "code",
   "execution_count": 4,
   "metadata": {},
   "outputs": [],
   "source": [
    "class MySubscriber:\n",
    "        def __init__(self, clientID):\n",
    "            self.clientID = clientID\n",
    "            # create an instance of paho.mqtt.client\n",
    "            self._paho_mqtt = PahoMQTT.Client(clientID, False) \n",
    " \n",
    "            # register the callback\n",
    "            self._paho_mqtt.on_connect = self.myOnConnect\n",
    "            self._paho_mqtt.on_message = self.myOnMessageReceived\n",
    " \n",
    "            self.topic = 'test/topic'\n",
    "            self.messageBroker = 'localhost'\n",
    "            #self.messageBroker = '192.168.1.5'\n",
    " \n",
    " \n",
    "        def start (self):\n",
    "            #manage connection to broker\n",
    "            self._paho_mqtt.connect(self.messageBroker, 1883)\n",
    "            self._paho_mqtt.loop_start()\n",
    "            # subscribe for a topic\n",
    "            self._paho_mqtt.subscribe(self.topic, 2)\n",
    " \n",
    "        def stop (self):\n",
    "            self._paho_mqtt.unsubscribe(self.topic)\n",
    "            self._paho_mqtt.loop_stop()\n",
    "            self._paho_mqtt.disconnect()\n",
    " \n",
    "        def myOnConnect (self, paho_mqtt, userdata, flags, rc):\n",
    "            print (\"Connected to %s with result code: %d\" % (self.messageBroker, rc))\n",
    " \n",
    "        def myOnMessageReceived (self, paho_mqtt , userdata, msg):\n",
    "            # A new message is received\n",
    "            print (\"Topic:'\" + msg.topic+\"', QoS: '\"+str(msg.qos)+\"' Message: '\"+str(msg.payload) + \"'\")"
   ]
  },
  {
   "cell_type": "code",
   "execution_count": 6,
   "metadata": {},
   "outputs": [
    {
     "name": "stdout",
     "output_type": "stream",
     "text": [
      "Connected to localhost with result code: 0Connected to localhost with result code: 0\n",
      "\n"
     ]
    }
   ],
   "source": [
    "subscriber=MySubscriber('Subscriber 1')\n",
    "publisher=MyPublisher('Publisher 1')\n",
    "subscriber.start()\n",
    "publisher.start()\n",
    "\n"
   ]
  },
  {
   "cell_type": "code",
   "execution_count": 7,
   "metadata": {},
   "outputs": [
    {
     "name": "stdout",
     "output_type": "stream",
     "text": [
      "Topic:'test/topic', QoS: '2' Message: 'Test message no.1'\n"
     ]
    }
   ],
   "source": [
    "publisher.myPublish('test/topic','Test message no.1')"
   ]
  },
  {
   "cell_type": "code",
   "execution_count": null,
   "metadata": {},
   "outputs": [],
   "source": []
  }
 ],
 "metadata": {
  "kernelspec": {
   "display_name": "Python 3",
   "language": "python",
   "name": "python3"
  },
  "language_info": {
   "codemirror_mode": {
    "name": "ipython",
    "version": 2
   },
   "file_extension": ".py",
   "mimetype": "text/x-python",
   "name": "python",
   "nbconvert_exporter": "python",
   "pygments_lexer": "ipython2",
   "version": "2.7.12"
  }
 },
 "nbformat": 4,
 "nbformat_minor": 2
}
