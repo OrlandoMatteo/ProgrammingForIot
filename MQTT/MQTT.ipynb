{
 "cells": [
  {
   "cell_type": "markdown",
   "metadata": {},
   "source": [
    "Introduction\n",
    "===\n",
    "![Example of MQTT](images/MQTTexample.png)"
   ]
  },
  {
   "cell_type": "markdown",
   "metadata": {},
   "source": [
    "We could briefly resume the structure of the MQTT communication paradigm in this way, there are 3 type of actors:***Publisher***,***Subscriber***,***Broker***.  \n",
    "The ***Publisher*** is the actor that wants to send messages tagged by a *topic* while the ***Subsciber*** is the actor that wants to receive messages that belong to variable number of topic. The ***Broker*** is the actor in the middle: it receives the messages from all the publisher and forwards each of them to the suscriber according to the *topic*.\n",
    "Here below you can find the examples for the implementation of a publisher and a subscriber"
   ]
  },
  {
   "cell_type": "code",
   "execution_count": 1,
   "metadata": {},
   "outputs": [],
   "source": [
    "import paho.mqtt.client as PahoMQTT\n",
    "import time\n",
    " \n",
    "class MyPublisher:\n",
    "    def __init__(self, clientID,broker):\n",
    "        self.clientID = clientID\n",
    " \n",
    "        # create an instance of paho.mqtt.client\n",
    "        self._paho_mqtt = PahoMQTT.Client(self.clientID, False) \n",
    "        # register the callback\n",
    "        self._paho_mqtt.on_connect = self.myOnConnect\n",
    "         \n",
    "        self.messageBroker = broker\n",
    " \n",
    "    def start (self):\n",
    "        #manage connection to broker\n",
    "        self._paho_mqtt.connect(self.messageBroker, 1883)\n",
    "        self._paho_mqtt.loop_start()\n",
    " \n",
    "    def stop (self):\n",
    "        self._paho_mqtt.loop_stop()\n",
    "        self._paho_mqtt.disconnect()\n",
    " \n",
    "    def myPublish(self, topic, message):\n",
    "        # publish a message with a certain topic\n",
    "        self._paho_mqtt.publish(topic, message, 2)\n",
    " \n",
    "    def myOnConnect (self, paho_mqtt, userdata, flags, rc):\n",
    "        print (\"Connected to %s with result code: %d\" % (self.messageBroker, rc))"
   ]
  },
  {
   "cell_type": "code",
   "execution_count": null,
   "metadata": {},
   "outputs": [],
   "source": [
    "class MySubscriber:\n",
    "        def __init__(self, clientID,topic,broker):\n",
    "            self.clientID = clientID\n",
    "            # create an instance of paho.mqtt.client\n",
    "            self._paho_mqtt = PahoMQTT.Client(clientID, False) \n",
    " \n",
    "            # register the callback\n",
    "            self._paho_mqtt.on_connect = self.myOnConnect\n",
    "            self._paho_mqtt.on_message = self.myOnMessageReceived\n",
    " \n",
    "            self.topic = topic\n",
    "            self.messageBroker = broker\n",
    " \n",
    " \n",
    "        def start (self):\n",
    "            #manage connection to broker\n",
    "            self._paho_mqtt.connect(self.messageBroker, 1883)\n",
    "            self._paho_mqtt.loop_start()\n",
    "            # subscribe for a topic\n",
    "            self._paho_mqtt.subscribe(self.topic, 2)\n",
    " \n",
    "        def stop (self):\n",
    "            self._paho_mqtt.unsubscribe(self.topic)\n",
    "            self._paho_mqtt.loop_stop()\n",
    "            self._paho_mqtt.disconnect()\n",
    " \n",
    "        def myOnConnect (self, paho_mqtt, userdata, flags, rc):\n",
    "            print (\"Connected to %s with result code: %d\" % (self.messageBroker, rc))\n",
    " \n",
    "        def myOnMessageReceived (self, paho_mqtt , userdata, msg):\n",
    "            # A new message is received\n",
    "            print (\"Topic:'\" + msg.topic+\"', QoS: '\"+str(msg.qos)+\"' Message: '\"+str(msg.payload) + \"'\")"
   ]
  },
  {
   "cell_type": "markdown",
   "metadata": {},
   "source": [
    "General purpose MQTT implementation\n",
    "---\n",
    "Let's look at the two pieces of code written below"
   ]
  },
  {
   "cell_type": "code",
   "execution_count": 1,
   "metadata": {},
   "outputs": [],
   "source": [
    "import paho.mqtt.client as PahoMQTT\n",
    " \n",
    "class MyMQTT:\n",
    "    def __init__(self, clientID, broker, port, notifier):\n",
    "        self.broker = broker\n",
    "        self.port = port\n",
    "        self.notifier = notifier\n",
    "        self.clientID = clientID\n",
    " \n",
    "        self._topic = \"\"\n",
    "        self._isSubscriber = False\n",
    " \n",
    "        # create an instance of paho.mqtt.client\n",
    "        self._paho_mqtt = PahoMQTT.Client(clientID, False) \n",
    " \n",
    "        # register the callback\n",
    "        self._paho_mqtt.on_connect = self.myOnConnect\n",
    "        self._paho_mqtt.on_message = self.myOnMessageReceived\n",
    " \n",
    " \n",
    "    def myOnConnect (self, paho_mqtt, userdata, flags, rc):\n",
    "        print (\"Connected to %s with result code: %d\" % (self.broker, rc))\n",
    " \n",
    "    def myOnMessageReceived (self, paho_mqtt , userdata, msg):\n",
    "        # A new message is received\n",
    "        self.notifier.notify (msg.topic, msg.payload)\n",
    " \n",
    " \n",
    "    def myPublish (self, topic, msg):\n",
    "        # if needed, you can do some computation or error-check before publishing\n",
    "        print (\"publishing '%s' with topic '%s'\" % (msg, topic))\n",
    "        # publish a message with a certain topic\n",
    "        self._paho_mqtt.publish(topic, msg, 2)\n",
    " \n",
    "    def mySubscribe (self, topic):\n",
    "        # if needed, you can do some computation or error-check before subscribing\n",
    "        print (\"subscribing to %s\" % (topic))\n",
    "        # subscribe for a topic\n",
    "        self._paho_mqtt.subscribe(topic, 2)\n",
    " \n",
    "        # just to remember that it works also as a subscriber\n",
    "        self._isSubscriber = True\n",
    "        self._topic = topic\n",
    " \n",
    "    def start(self):\n",
    "        #manage connection to broker\n",
    "        self._paho_mqtt.connect(self.broker , self.port)\n",
    "        self._paho_mqtt.loop_start()\n",
    " \n",
    "    def stop (self):\n",
    "        if (self._isSubscriber):\n",
    "            # remember to unsuscribe if it is working also as subscriber \n",
    "            self._paho_mqtt.unsubscribe(self._topic)\n",
    " \n",
    "        self._paho_mqtt.loop_stop()\n",
    "        self._paho_mqtt.disconnect()"
   ]
  },
  {
   "cell_type": "code",
   "execution_count": 3,
   "metadata": {},
   "outputs": [],
   "source": [
    "from MyMQTT import MyMQTT\n",
    " \n",
    "class DoSomething():\n",
    "    def __init__(self, clientID):\n",
    "        # create an instance of MyMQTT class\n",
    "        self.clientID = clientID\n",
    "        self.myMqttClient = MyMQTT(self.clientID, \"iot.eclipse.org\", 1883, self) \n",
    "         \n",
    " \n",
    " \n",
    "    def run(self):\n",
    "        # if needed, perform some other actions befor starting the mqtt communication\n",
    "        print (\"running %s\" % (self.clientID))\n",
    "        self.myMqttClient.start()\n",
    " \n",
    "    def end(self):\n",
    "        # if needed, perform some other actions befor ending the software\n",
    "        print (\"ending %s\" % (self.clientID))\n",
    "        self.myMqttClient.stop ()\n",
    " \n",
    "    def notify(self, topic, msg):\n",
    "        # manage here your received message. You can perform some error-check here  \n",
    "        print (\"received '%s' under topic '%s'\" % (msg, topic))"
   ]
  },
  {
   "cell_type": "markdown",
   "metadata": {},
   "source": [
    "Exercise 1\n",
    "---\n",
    "Try to create a script that mimics a light that has a status that can be on/off and has to to the topic *led*. Then create a client that uses MQTT to set the status of the light"
   ]
  },
  {
   "cell_type": "markdown",
   "metadata": {},
   "source": [
    "Exercise 2\n",
    "---\n",
    "Try to improve the previous exercise by creating a REST client to set the status of the light. You can use the file *'index.html'* as page for the GET request, when you will click on the button the page will execute a PUT request where the uri indicates the status we want to set. "
   ]
  },
  {
   "cell_type": "markdown",
   "metadata": {},
   "source": [
    "Exercise 3\n",
    "---\n",
    "Try to create a simple chat client that uses MQTT. We would like two have at leat two client that are subscribed to the same topic (i.e. *\"chat\"*) but can also publish to this topic. We want to have a client that allows to write a new message only if the last message has been written from another user, that means:  \n",
    "\n",
    "**YES**  \n",
    "\n",
    ">John: Hi\n",
    "\n",
    ">Yoko: Hi, how are you?\n",
    "\n",
    ">John: Good"
   ]
  },
  {
   "cell_type": "markdown",
   "metadata": {},
   "source": [
    "**NO**  \n",
    "\n",
    ">John: Let\n",
    "\n",
    ">John: it\n",
    "\n",
    ">John: be"
   ]
  }
 ],
 "metadata": {
  "kernelspec": {
   "display_name": "Python 3",
   "language": "python",
   "name": "python3"
  },
  "language_info": {
   "codemirror_mode": {
    "name": "ipython",
    "version": 3
   },
   "file_extension": ".py",
   "mimetype": "text/x-python",
   "name": "python",
   "nbconvert_exporter": "python",
   "pygments_lexer": "ipython3",
   "version": "3.6.8"
  }
 },
 "nbformat": 4,
 "nbformat_minor": 2
}
