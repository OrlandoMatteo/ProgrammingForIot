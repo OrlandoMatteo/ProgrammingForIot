{
 "cells": [
  {
   "cell_type": "markdown",
   "metadata": {},
   "source": [
    "Introduction\n",
    "===\n",
    "Let's start with an example. Imagine we want to acquire a signal and process the data aquired.\n",
    "So we've a Python script like the following one:\n"
   ]
  },
  {
   "cell_type": "code",
   "execution_count": null,
   "metadata": {},
   "outputs": [],
   "source": [
    "while True:\n",
    "    raw_data=acquire()\n",
    "    processed_data=process(raw_data)"
   ]
  },
  {
   "cell_type": "markdown",
   "metadata": {},
   "source": [
    "The function *acquire()* collect the input and the function processes the data.\n"
   ]
  },
  {
   "cell_type": "markdown",
   "metadata": {},
   "source": [
    "If we try to plot the data collected we may found something like in this picture\n",
    "![Example](example.png)  \n",
    "\n",
    "You can see how some samples are lost by the *acquire* function.\n",
    "This happens because the acquisition isn't continuos: after the first cycle of the signal is a collected some preprocessing is done, this operations take time and cause the delay in the acquisition\n"
   ]
  },
  {
   "cell_type": "markdown",
   "metadata": {},
   "source": [
    "Multi-threading with the *threading* module\n",
    "---\n",
    "To avoid this kind of issues we can use the multithreading capabilities of Python with the module *threading*. There are also other tools to achieve the same results but we will just use this one.\n",
    "To create our custom thread class we want to use the code below:"
   ]
  },
  {
   "cell_type": "code",
   "execution_count": 3,
   "metadata": {},
   "outputs": [],
   "source": [
    "import threading\n",
    "class MyThread(threading.Thread):\n",
    "    def __init__(self, threadID):\n",
    "        threading.Thread.__init__(self)\n",
    "        #Setup thread\n",
    "        self.threadID = threadID\n",
    "    def run(self):\n",
    "        pass\n",
    "        #Do something"
   ]
  },
  {
   "cell_type": "markdown",
   "metadata": {},
   "source": [
    "Inside the *init* method we will the define the parameters of the thread while inside the *run* method we will specify the instructions that the trade will execute"
   ]
  },
  {
   "cell_type": "markdown",
   "metadata": {},
   "source": [
    "Exercises\n",
    "===\n",
    "Exercise 1\n",
    "---\n",
    "In the first exercise we want to test if we can improve the the speed of a little piece of code by using multi-threading.\n",
    "We want to execute a GET request to a list of websites in two ways:\n",
    "    1. using a simple for cycle\n",
    "    2. using separate threads for each request\n",
    "We want to measure the execution time of both of the solutions to check which of them is the fastest\n"
   ]
  },
  {
   "cell_type": "markdown",
   "metadata": {},
   "source": [
    "**Tips and tricks**\n",
    "1. You can use this list of website :[\"http://yahoo.com\", \"http://google.com\", \"http://amazon.com\",\n",
    "\"http://ibm.com\", \"http://apple.com\",\"https://www.microsoft.com\",\"https://www.youtube.com/\" ,\"https://www.polito.it/\" ,\"http://www.wikipedia.org\",\"https://www.reddit.com/\",\"https://www.adobe.com/\",\"https://wordpress.org/\",\"https://github.com/\",\"https://www.google.com/maps/\"]\n",
    "2. To measure the execution time you can use this code\n",
    "    ~~~\n",
    "    import time\n",
    "    start = time.time()\n",
    "    #Code to measure\n",
    "    stop=time.time()\n",
    "    execution_time=stop-start\n",
    "    ~~~"
   ]
  },
  {
   "cell_type": "code",
   "execution_count": null,
   "metadata": {},
   "outputs": [],
   "source": []
  }
 ],
 "metadata": {
  "kernelspec": {
   "display_name": "Python 3",
   "language": "python",
   "name": "python3"
  },
  "language_info": {
   "codemirror_mode": {
    "name": "ipython",
    "version": 2
   },
   "file_extension": ".py",
   "mimetype": "text/x-python",
   "name": "python",
   "nbconvert_exporter": "python",
   "pygments_lexer": "ipython2",
   "version": "2.7.12"
  }
 },
 "nbformat": 4,
 "nbformat_minor": 2
}
