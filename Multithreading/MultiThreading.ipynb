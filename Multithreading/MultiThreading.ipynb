{
 "cells": [
  {
   "cell_type": "markdown",
   "metadata": {},
   "source": [
    "Introduction\n",
    "===\n",
    "Let's start with an example. Imagine we want to acquire a signal and process the data aquired.\n",
    "So we've a Python script like the following one:\n"
   ]
  },
  {
   "cell_type": "code",
   "execution_count": null,
   "metadata": {},
   "outputs": [],
   "source": [
    "while True:\n",
    "    raw_data=acquire()\n",
    "    processed_data=process(raw_data)"
   ]
  },
  {
   "cell_type": "markdown",
   "metadata": {},
   "source": [
    "The function *acquire()* collect the input and the function processes the data.\n"
   ]
  },
  {
   "cell_type": "markdown",
   "metadata": {},
   "source": [
    "If we try to plot the data collected we may found something like in this picture\n",
    "![Example](example.png)  \n",
    "\n",
    "You can see how some samples are lost by the *acquire* function.\n",
    "This happens because the acquisition isn't continuos: after the first cycle of the signal is a collected some preprocessing is done, this operations take time and cause the delay in the acquisition\n"
   ]
  },
  {
   "cell_type": "markdown",
   "metadata": {},
   "source": [
    "Multi-threading with the *threading* module\n",
    "---\n",
    "To avoid this kind of issues we can use the multithreading capabilities of Python with the module *threading*. There are also other tools to achieve the same results but we will just use this one.\n",
    "To create our custom thread class we want to use the code below:"
   ]
  },
  {
   "cell_type": "code",
   "execution_count": 3,
   "metadata": {},
   "outputs": [],
   "source": [
    "import threading\n",
    "class MyThread(threading.Thread):\n",
    "    def __init__(self, threadID):\n",
    "        threading.Thread.__init__(self)\n",
    "        #Setup thread\n",
    "        self.threadID = threadID\n",
    "    def run(self):\n",
    "        pass\n",
    "        #Do something"
   ]
  },
  {
   "cell_type": "markdown",
   "metadata": {},
   "source": [
    "Inside the *init* method we will the define the parameters of the thread while inside the *run* method we will specify the instructions that the trade will execute"
   ]
  },
  {
   "cell_type": "markdown",
   "metadata": {},
   "source": [
    "Exercises\n",
    "===\n",
    "Exercise 1\n",
    "---\n",
    "In this exercise we want to test if we can improve the the speed of a little piece of code by using multi-threading.\n",
    "We want to execute a GET request to a list of websites in two ways:\n",
    "\n",
    "   1. using a simple for cycle\n",
    "   2. using separate threads for each request\n",
    "We want to measure the execution time of both of the solutions to check which of them is the fastest\n"
   ]
  },
  {
   "cell_type": "markdown",
   "metadata": {},
   "source": [
    "**Tips and tricks**\n",
    "\n",
    "   1. You can use this list of website below \n",
    "  \n",
    "   2. To measure the execution time you can use this code\n",
    "    "
   ]
  },
  {
   "cell_type": "code",
   "execution_count": 26,
   "metadata": {},
   "outputs": [],
   "source": [
    "#Websites list\n",
    "website_list= [\"http://yahoo.com\", \n",
    "               \"http://google.com\",\n",
    "               \"http://amazon.com\",\n",
    "               \"http://ibm.com\", \n",
    "               \"http://apple.com\",\n",
    "               \"https://www.microsoft.com\",\n",
    "               \"https://www.youtube.com/\" ,\n",
    "               \"https://www.polito.it/\" ,\n",
    "               \"http://www.wikipedia.org\",\n",
    "               \"https://www.reddit.com/\",\n",
    "               \"https://www.adobe.com/\",\n",
    "               \"https://wordpress.org/\",\n",
    "               \"https://github.com/\",\n",
    "               \"https://www.google.com/maps/\"]\n",
    "\n",
    "#Code to avaluate execution time\n",
    "import time\n",
    "start = time.time()\n",
    "#Code to measure\n",
    "stop=time.time()\n",
    "execution_time=stop-start"
   ]
  },
  {
   "cell_type": "markdown",
   "metadata": {},
   "source": [
    "Exercise 2\n",
    "---\n",
    "In this exercise we want to create a [Caesar cipher](https://en.wikipedia.org/wiki/Caesar_cipher). We want a function to crypt a word with a random shift and a function to try to decrypt a word.\n",
    "So for example:"
   ]
  },
  {
   "cell_type": "code",
   "execution_count": 22,
   "metadata": {},
   "outputs": [
    {
     "name": "stdout",
     "output_type": "stream",
     "text": [
      "programming for iot\n",
      "Shift=26\n"
     ]
    }
   ],
   "source": [
    "from Exercise2 import *\n",
    "import string\n",
    "#Original sentence\n",
    "sentence='programming for iot'\n",
    "#Crypted sentence\n",
    "crypted=crypt(sentence)\n",
    "print(crypted)\n",
    "done=False\n",
    "while not done:\n",
    "    #we want to test each possible shift, one for each letter of the alphabet\n",
    "    for i in range(len(string.ascii_lowercase)):\n",
    "        #We create the shifted dict/alphabet\n",
    "        test_dict=create_dict(i)\n",
    "        test_decrypt=decrypt(crypted,test_dict)\n",
    "        if test_decrypt==sentence:\n",
    "            done=True     \n",
    "            print('Shift={}'.format(26-i))\n",
    "            break"
   ]
  },
  {
   "cell_type": "markdown",
   "metadata": {},
   "source": [
    "In the file *wordlist.txt* there a list of word we can use. We want to check what's the fastest way to decrypt a list of word:  \n",
    "\n",
    "   1. a \"classic\" for cycle \n",
    "   2. using separate threads\n",
    "\n",
    "**Tips and tricks**\n",
    "\n",
    "   1. Pay attention that some words in the list may have spaces!\n",
    "   2. Don't try immediatly with all the words in the file, the execution may take some time\n",
    "    "
   ]
  },
  {
   "cell_type": "code",
   "execution_count": null,
   "metadata": {},
   "outputs": [],
   "source": []
  }
 ],
 "metadata": {
  "kernelspec": {
   "display_name": "Python 3",
   "language": "python",
   "name": "python3"
  },
  "language_info": {
   "codemirror_mode": {
    "name": "ipython",
    "version": 3
   },
   "file_extension": ".py",
   "mimetype": "text/x-python",
   "name": "python",
   "nbconvert_exporter": "python",
   "pygments_lexer": "ipython3",
   "version": "3.6.8"
  }
 },
 "nbformat": 4,
 "nbformat_minor": 2
}
