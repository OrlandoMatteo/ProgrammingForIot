{
 "cells": [
  {
   "cell_type": "markdown",
   "metadata": {},
   "source": [
    "Multi-threading with the *threading* module\n",
    "===\n",
    "We can use the multithreading capabilities of Python with the module *threading*. There are also other tools to achieve the same results but we will just use this one.\n",
    "To create our custom thread class we want to use the code below:"
   ]
  },
  {
   "cell_type": "code",
   "execution_count": 3,
   "metadata": {},
   "outputs": [],
   "source": [
    "import threading\n",
    "class MyThread(threading.Thread):\n",
    "    def __init__(self, threadID):\n",
    "        threading.Thread.__init__(self)\n",
    "        #Setup thread\n",
    "        self.threadID = threadID\n",
    "    def run(self):\n",
    "        pass\n",
    "        #Do something\n",
    "        "
   ]
  },
  {
   "cell_type": "markdown",
   "metadata": {},
   "source": [
    "Inside the *init* method we will the define the parameters of the thread while inside the *run* method we will specify the instructions that the trade will execute. To create a thread and start it we can just write:\n"
   ]
  },
  {
   "cell_type": "code",
   "execution_count": 4,
   "metadata": {},
   "outputs": [],
   "source": [
    "threadID=1\n",
    "thread=MyThread(threadID)\n",
    "thread.start()\n",
    "#if we want to wait it to finish before proceeding with other instructions we write\n",
    "#thread.join()"
   ]
  },
  {
   "cell_type": "markdown",
   "metadata": {},
   "source": [
    "Exercise 1\n",
    "===\n",
    "In this exercise we want to test if we can improve the the speed of a little piece of code by using multi-threading.\n",
    "We want to execute a GET request to a list of websites in two ways:\n",
    "\n",
    "   1. using a simple for cycle\n",
    "   2. using separate threads for each request  \n",
    "   \n",
    "We want to measure the execution time of both of the solutions to check which of them is the fastest\n"
   ]
  },
  {
   "cell_type": "markdown",
   "metadata": {},
   "source": [
    "**Tips and tricks**\n",
    "\n",
    "   1. You can use this list of website below \n",
    "  \n",
    "   2. To measure the execution time you can use this code\n",
    "    "
   ]
  },
  {
   "cell_type": "code",
   "execution_count": 26,
   "metadata": {},
   "outputs": [],
   "source": [
    "\n",
    "\n",
    "#Code to avaluate execution time\n",
    "import time\n",
    "#Websites list\n",
    "website_list= [\"http://yahoo.com\", \n",
    "               \"http://google.com\",\n",
    "               \"http://amazon.com\",\n",
    "               \"http://ibm.com\", \n",
    "               \"http://apple.com\",\n",
    "               \"https://www.microsoft.com\",\n",
    "               \"https://www.youtube.com/\" ,\n",
    "               \"https://www.polito.it/\" ,\n",
    "               \"http://www.wikipedia.org\",\n",
    "               \"https://www.reddit.com/\",\n",
    "               \"https://www.adobe.com/\",\n",
    "               \"https://wordpress.org/\",\n",
    "               \"https://github.com/\",\n",
    "               \"https://www.google.com/maps/\"]\n",
    "start = time.time()\n",
    "#Code to measure\n",
    "stop=time.time()\n",
    "execution_time=stop-start"
   ]
  },
  {
   "cell_type": "markdown",
   "metadata": {},
   "source": [
    "Exercise 2\n",
    "===\n",
    "In this exercise we want to simulate the queue for that we can find in a lot of supermarket nowadays, a single queue that than sends the customer to the first cash desk available.  \n",
    "![Queue](queue.png)  \n",
    "We want to create a list of customers that has their own serve-time that is random number (you can use numpy.random to generate random numbers with particular distributions) and a list of cash desk. We want to analyze the result of the simulation so we want to know the total time needed to serve all the customers, the average time and the number of customer served by each cash desk"
   ]
  },
  {
   "cell_type": "markdown",
   "metadata": {},
   "source": [
    "Exercise 3\n",
    "==="
   ]
  },
  {
   "cell_type": "markdown",
   "metadata": {},
   "source": [
    "We want to create a script that uses multithreading to convert a dna sequence to the correspondent protein. \n",
    "\n",
    "![DNA structure](dnaVisual.png)\n",
    "\n",
    "A DNA sequence is composed by a concatenation of ___nucletides___ that can have four possible values :'A', 'T', 'C', 'G'. Each group of 3 nucleotides is called ___codon___ and which indicicates a particular ___aminoacid___. A sequence of aminoacid correnspond to a protein (inside the file _usefulthings.txt_ you can find the dictionary to convert a condon to a aminoacid. Inside the file _chromosomes.json_ there is a list of chromosomes. We want to create a python script that uses multithread that do what follows:\n",
    "\n",
    "   1. Perform a get request to this api  \n",
    "   https://api.genome.ucsc.edu/getData/sequence?genome=hg38;chrom=<chromosome name\\>\n",
    "   2. Convert each codon to the corresponding aminoacid\n",
    "   3. Return the sequence that define the protein\n",
    "    \n",
    "Pay attention that some codon in the table correspond to 'STOP', this indicates the finish of the previous protein and the start of a new one.\n",
    "To start do no use all the list of chromosomes but go step by step.\n",
    "\n",
    "Below you can see an example of the result\n",
    "\n",
    "![example](dna.png)"
   ]
  },
  {
   "cell_type": "markdown",
   "metadata": {},
   "source": [
    "\n",
    "    "
   ]
  }
 ],
 "metadata": {
  "kernelspec": {
   "display_name": "Python 3",
   "language": "python",
   "name": "python3"
  },
  "language_info": {
   "codemirror_mode": {
    "name": "ipython",
    "version": 2
   },
   "file_extension": ".py",
   "mimetype": "text/x-python",
   "name": "python",
   "nbconvert_exporter": "python",
   "pygments_lexer": "ipython2",
   "version": "2.7.15+"
  }
 },
 "nbformat": 4,
 "nbformat_minor": 2
}
