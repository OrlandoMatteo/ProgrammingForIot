{
 "cells": [
  {
   "cell_type": "markdown",
   "metadata": {
    "slideshow": {
     "slide_type": "slide"
    }
   },
   "source": [
    "Exercise 0\n",
    "===\n",
    "Implement a \"SquareManager\" that is able to evaluate the perimeter, the area and the diagonal of a square given the lenght of it's side.\n",
    "The result should be somehting like the following"
   ]
  },
  {
   "cell_type": "code",
   "execution_count": 12,
   "metadata": {
    "slideshow": {
     "slide_type": "subslide"
    },
    "tags": []
   },
   "outputs": [
    {
     "name": "stdout",
     "output_type": "stream",
     "text": [
      "The area of the square with side 3 = 9\n",
      "The perimeter of the square with side 3 = 12\n",
      "The diagonal of the square with side 3 = 4.243\n"
     ]
    }
   ],
   "source": [
    "from Exercise_0 import *\n",
    "if __name__==\"__main__\":\n",
    "    sm=SquareManager(3)\n",
    "    print(f\"The area of the square with side {sm.side} = {sm.area()}\")\n",
    "    print(f\"The perimeter of the square with side {sm.side} = {sm.perimeter()}\")\n",
    "    print(f\"The diagonal of the square with side {sm.side} = {sm.diagonal():.3f}\")"
   ]
  },
  {
   "cell_type": "markdown",
   "metadata": {
    "slideshow": {
     "slide_type": "slide"
    }
   },
   "source": [
    "Exercise 1\n",
    "==\n",
    "Implement a \"Point\" class that is able to represent 2-D points.  The class must contains the methods to obtain the results shown below"
   ]
  },
  {
   "cell_type": "code",
   "execution_count": 13,
   "metadata": {
    "slideshow": {
     "slide_type": "slide"
    },
    "tags": []
   },
   "outputs": [
    {
     "name": "stdout",
     "output_type": "stream",
     "text": [
      "6.0\n",
      "9,3\n"
     ]
    }
   ],
   "source": [
    "from Exercise_1 import *\n",
    "if __name__==\"__main__\":\n",
    "    a=Point(7,1)\n",
    "    b=Point(1,1)\n",
    "    print(a.distance(b))\n",
    "\n",
    "    a.move(2,2)\n",
    "    print(a)"
   ]
  },
  {
   "cell_type": "markdown",
   "metadata": {
    "slideshow": {
     "slide_type": "slide"
    }
   },
   "source": [
    "**Tips and tricks**:  \n",
    "\n",
    " - The formula for the distance betwees two points is  \n",
    "$$d(P_1,P_2)=\\sqrt{(x_2-x_1)^2+(y_2-y_1)^2}$$  \n",
    "\n",
    "\n",
    " - To use the square root function you need to import math \n",
    "  and use math.sqrt like below"
   ]
  },
  {
   "cell_type": "code",
   "execution_count": 14,
   "metadata": {
    "slideshow": {
     "slide_type": "subslide"
    },
    "tags": []
   },
   "outputs": [
    {
     "name": "stdout",
     "output_type": "stream",
     "text": [
      "2.0\n"
     ]
    }
   ],
   "source": [
    "import math\n",
    "print(math.sqrt(4))"
   ]
  },
  {
   "cell_type": "markdown",
   "metadata": {
    "slideshow": {
     "slide_type": "slide"
    }
   },
   "source": [
    "Exercise 2\n",
    "===\n",
    "Implement a \"Line\" class that is able to represent 2-D lines.\n",
    "Using the class \"Points\" of the previous exercise and this one try to obtain the following results"
   ]
  },
  {
   "cell_type": "code",
   "execution_count": 15,
   "metadata": {
    "slideshow": {
     "slide_type": "slide"
    },
    "tags": []
   },
   "outputs": [
    {
     "name": "stdout",
     "output_type": "stream",
     "text": [
      "Line: y={self.m}x+{self.q}\n",
      "2.82842712474619\n",
      "0.0,0.0\n"
     ]
    }
   ],
   "source": [
    "from Exercise_2 import *\n",
    "if __name__==\"__main__\":\n",
    "    l=Line(3,2)\n",
    "    print(l)\n",
    "\n",
    "    a=Point(0,1)\n",
    "    b=Point(2,2)\n",
    "    l.line_from_points(a,b)\n",
    "\n",
    "    l=Line(1,0)\n",
    "    a=Point(1,5)\n",
    "    print(l.distance(a))\n",
    "    \n",
    "    m=Line(-1,0)\n",
    "    i=l.intersection(m)\n",
    "    print(i)"
   ]
  },
  {
   "cell_type": "markdown",
   "metadata": {
    "slideshow": {
     "slide_type": "slide"
    }
   },
   "source": [
    "**Tips and tricks**  \n",
    "\n",
    "* The formula to obtain the equation from 2 points is\n",
    "$$ y=(y_2-y_1)/(x_2-x_1)x-(y_2-y_1)/(x_2-x_1)x_1+y_1$$  \n",
    "\n",
    "* The formula for the distance between a line and a point is \n",
    "$$d(P,r)=\\frac{|ax_P+by_P+c|}{\\sqrt{a^2+b^2}}$$  \n",
    "\n",
    "* the formula to find the intersection is\n",
    "$$P\\left({\\frac {q_2-q_1}{m_1-m_2}},m_1{\\frac {q_2-q_1}{m_1-m_2}}+q_1\\right)$$"
   ]
  },
  {
   "cell_type": "markdown",
   "metadata": {},
   "source": [
    "Create a \"client\" for your main\n",
    "===\n",
    "In all the exercises we made before we were able to run the main just once but in most cases that's not really useful, we would like to create a client-style main to be able to execute the same code in different ways according to some commands and then quit when we've finished.\n",
    "An easy method to do this is shown below for the Exercise 1.\n"
   ]
  },
  {
   "cell_type": "code",
   "execution_count": 16,
   "metadata": {
    "tags": []
   },
   "outputs": [
    {
     "name": "stdout",
     "output_type": "stream",
     "text": [
      "Command not recognized\n",
      "Goodbye!\n"
     ]
    }
   ],
   "source": [
    "if __name__==\"__main__\":\n",
    "    #We want to run the script untile the user input a specific command to quit \n",
    "    #(in this case \"q\")\n",
    "    while True:\n",
    "        #Putting \\ in a string allows us to continue writing in the next line\n",
    "        user_input=input(\"The available command are:\\n\\\n",
    "    d:Distance between 2 points\\n\\\n",
    "    m:Move a point according to a vector\\n\\\n",
    "    q:Quit\\n\")\n",
    "        if user_input==\"d\":\n",
    "            #Ask the user two points and calculate the distance\n",
    "            pass\n",
    "        elif user_input==\"m\":\n",
    "            #Ask the user a point and a vector to apply\n",
    "            pass\n",
    "        elif user_input==\"q\":\n",
    "            #exit from the loop\n",
    "            break\n",
    "        else:\n",
    "            print(\"Command not recognized\")\n",
    "    print(\"Goodbye!\")\n",
    "    \n"
   ]
  },
  {
   "cell_type": "markdown",
   "metadata": {},
   "source": [
    "This we'll be useful in the next exercises"
   ]
  },
  {
   "cell_type": "markdown",
   "metadata": {},
   "source": [
    "Exercise 3\n",
    "===\n",
    "In this exercise we wanto to create a \"Deck\" class and a \"Card\" class to represent a poker deck of cards. The requirements are\n",
    "\n",
    " 1. The Deck should have a _deal()_ method that pick a card (or multiple card from the deck) and remove them from the deck\n",
    " 2. The Deck should have a _shuffle()_ method\n",
    " 3. The Card class should have a suit (Hearts, Diamonds, Clubs, Spades) and a value (A,2,3,4,5,6,7,8,9,10,J,Q,K)\n",
    "\n",
    "**Tips and tricks**\n",
    "\n",
    " - Pay attention to consider the case of trying to draw more cards than the actual number of cards in the deck.\n",
    " - In the Python package _random_ there is a function thay may help you to shuffle the deck, look [here](https://docs.python.org/3/library/random.html)"
   ]
  },
  {
   "cell_type": "markdown",
   "metadata": {},
   "source": [
    "Exercise 4\n",
    "===\n",
    "Create the classes \"Contact\" that must be able to store the contact presents in the file _\"contacts.json\"_"
   ]
  },
  {
   "cell_type": "markdown",
   "metadata": {},
   "source": [
    "~~~\n",
    "{\n",
    "    \"name\": \"Cassio\",\n",
    "    \"surname\":\"Zen\",\n",
    "    \"email\": \"cassiozen@gmail.com\"\n",
    "}\n",
    "~~~"
   ]
  },
  {
   "cell_type": "markdown",
   "metadata": {
    "slideshow": {
     "slide_type": "slide"
    }
   },
   "source": [
    "Exercise 5\n",
    "==\n",
    "Create the classes \"Contact\" and \"AddressBook\"\n",
    "All the contacts are stored in a json file named _\"contacts.json\"_ and are similar to"
   ]
  },
  {
   "cell_type": "markdown",
   "metadata": {
    "slideshow": {
     "slide_type": "subslide"
    }
   },
   "source": [
    "~~~\n",
    "{\n",
    "    \"name\": \"Cassio\",\n",
    "    \"surname\":\"Zen\",\n",
    "    \"email\": \"cassiozen@gmail.com\"\n",
    "}\n",
    "~~~"
   ]
  },
  {
   "cell_type": "markdown",
   "metadata": {
    "slideshow": {
     "slide_type": "subslide"
    }
   },
   "source": [
    "The \"AddressBook\" class must be able to read the content of the file and perform CRUD (Create,Read,Update,Delete). The Update is the most difficult so i suggest to begin ith the other. Below you can find an example\n"
   ]
  },
  {
   "cell_type": "code",
   "execution_count": 17,
   "metadata": {
    "slideshow": {
     "slide_type": "slide"
    },
    "tags": []
   },
   "outputs": [
    {
     "name": "stdout",
     "output_type": "stream",
     "text": [
      "Name:Cassio, Surname:Zen, mail:None\n",
      "Name:Dan, Surname:Abramov, mail:None\n",
      "Name:Pete, Surname:Hunt, mail:None\n",
      "Name:Paul, Surname:Shannessy, mail:None\n",
      "Name:Ryan, Surname:Florence, mail:None\n",
      "Name:Sebastian, Surname:Markbage, mail:None\n"
     ]
    }
   ],
   "source": [
    "from Exercise_5 import *\n",
    "book=AddressBook()\n",
    "book.show()"
   ]
  },
  {
   "cell_type": "code",
   "execution_count": 18,
   "metadata": {
    "slideshow": {
     "slide_type": "slide"
    },
    "tags": []
   },
   "outputs": [
    {
     "name": "stdout",
     "output_type": "stream",
     "text": [
      "I found the following results:\n",
      "\n",
      "Name:Dan, Surname:Abramov, mail:None\n"
     ]
    }
   ],
   "source": [
    "book.find_by_name('Dan')"
   ]
  },
  {
   "cell_type": "code",
   "execution_count": 19,
   "metadata": {
    "slideshow": {
     "slide_type": "subslide"
    },
    "tags": []
   },
   "outputs": [
    {
     "name": "stdout",
     "output_type": "stream",
     "text": [
      "Name:Cassio, Surname:Zen, mail:None\n",
      "Name:Pete, Surname:Hunt, mail:None\n",
      "Name:Paul, Surname:Shannessy, mail:None\n",
      "Name:Ryan, Surname:Florence, mail:None\n",
      "Name:Sebastian, Surname:Markbage, mail:None\n"
     ]
    }
   ],
   "source": [
    "book.remove_contact('Dan')\n",
    "book.show()"
   ]
  },
  {
   "cell_type": "code",
   "execution_count": 20,
   "metadata": {
    "slideshow": {
     "slide_type": "slide"
    }
   },
   "outputs": [],
   "source": [
    "book.add_contact('Peter','Parker','notspiderman@marvel.com')"
   ]
  },
  {
   "cell_type": "code",
   "execution_count": 21,
   "metadata": {
    "slideshow": {
     "slide_type": "subslide"
    },
    "tags": []
   },
   "outputs": [
    {
     "name": "stdout",
     "output_type": "stream",
     "text": [
      "Name:Cassio, Surname:Zen, mail:None\n",
      "Name:Pete, Surname:Hunt, mail:None\n",
      "Name:Paul, Surname:Shannessy, mail:None\n",
      "Name:Ryan, Surname:Florence, mail:None\n",
      "Name:Sebastian, Surname:Markbage, mail:None\n",
      "Name:Peter, Surname:Parker, mail:notspiderman@marvel.com\n"
     ]
    }
   ],
   "source": [
    "book.show()"
   ]
  },
  {
   "cell_type": "markdown",
   "metadata": {
    "slideshow": {
     "slide_type": "slide"
    }
   },
   "source": [
    "Once you've done this you can now create a client to use the functions you implemented in a \"user-frienldy way\"\n",
    "The result should be something like the following"
   ]
  },
  {
   "cell_type": "markdown",
   "metadata": {
    "slideshow": {
     "slide_type": "slide"
    }
   },
   "source": [
    "~~~\n",
    "Welcome to the application to manage your contacts\n",
    "Press 's' tho show the list of contacts\n",
    "Press 'n' to add a contact\n",
    "Press 'f' to find a contact\n",
    "Press 'd' to delete a contact\n",
    "Press 'q' to quit\n",
    " s\n",
    "Name:Cassio, Surname:Zen, mail:cassiozen@gmail.com\n",
    "\n",
    "Name:Dan, Surname:Abramov, mail:gaearon@somewhere.com\n",
    "\n",
    "Name:Pete, Surname:Hunt, mail:floydophone@somewhere.com\n",
    "\n",
    "Name:Paul, Surname:Shannessy, mail:zpao@somewhere.com\n",
    "\n",
    "Name:Ryan, Surname:Florence, mail:rpflorence@somewhere.com\n",
    "\n",
    "Name:Sebastian, Surname:Markbage, mail:sebmarkbage@here.com\n",
    "\n",
    "Press 's' tho show the list of contacts\n",
    "Press 'n' to add a contact\n",
    "Press 'f' to find a contact\n",
    "Press 'd' to delete a contact\n",
    "Press 'q' to quit\n",
    " g\n",
    "Command not available\n",
    "Press 's' tho show the list of contacts\n",
    "Press 'n' to add a contact\n",
    "Press 'f' to find a contact\n",
    "Press 'd' to delete a contact\n",
    "Press 'q' to quit\n",
    " q\n",
    "~~~"
   ]
  },
  {
   "cell_type": "markdown",
   "metadata": {
    "slideshow": {
     "slide_type": "slide"
    }
   },
   "source": [
    "Exercise 6\n",
    "===\n"
   ]
  },
  {
   "cell_type": "markdown",
   "metadata": {
    "slideshow": {
     "slide_type": "subslide"
    }
   },
   "source": [
    "The file playerNBA.json contains the list of all the NBA player of this season with their stats and their bio. Each one looks like this:"
   ]
  },
  {
   "cell_type": "markdown",
   "metadata": {
    "slideshow": {
     "slide_type": "slide"
    }
   },
   "source": [
    "~~~\n",
    "{\n",
    "  \"pos\": \"G\",\n",
    "  \"name\": \"Stephen Curry\",\n",
    "  \"hgt\": 75,\n",
    "  \"tid\": 9,\n",
    "  \"injury\": {\n",
    "    \"gamesRemaining\": 0,\n",
    "    \"type\": \"Healthy\"\n",
    "  },\n",
    "  \"born\": {\n",
    "    \"year\": 1988,\n",
    "    \"loc\": \"Akron, OH\"\n",
    "  },\n",
    "  \"weight\": 190,\n",
    "  \"ratings\": [\n",
    "    {\n",
    "      \"diq\": 40,\n",
    "      \"endu\": 74,\n",
    "      \"ins\": 46,\n",
    "      \"pss\": 74,\n",
    "      \"spd\": 86,\n",
    "      \"tp\": 95,\n",
    "      \"jmp\": 88,\n",
    "      \"fg\": 92,\n",
    "      \"stre\": 50,\n",
    "      \"drb\": 61,\n",
    "      \"dnk\": 92,\n",
    "      \"oiq\": 73,\n",
    "      \"reb\": 49,\n",
    "      \"ft\": 78,\n",
    "      \"hgt\": 34\n",
    "    }\n",
    "  ],\n",
    "  \"draft\": {\n",
    "    \"tid\": 9,\n",
    "    \"pick\": 7,\n",
    "    \"originalTid\": 9,\n",
    "    \"year\": 2009,\n",
    "    \"round\": 1\n",
    "  }\n",
    "}\n",
    "~~~"
   ]
  },
  {
   "cell_type": "markdown",
   "metadata": {
    "slideshow": {
     "slide_type": "slide"
    }
   },
   "source": [
    "The first step is to analize the data, so we need to create the function to evaluate:\n",
    "   1. The average **ratings** among the players\n",
    "   2. The average **height** and **weigth** (in meters and kilograms while they're store in inches and pounds)\n",
    "   3. The average age \n",
    "\n",
    "You should be able to obtain results like the one below"
   ]
  },
  {
   "cell_type": "code",
   "execution_count": 33,
   "metadata": {
    "slideshow": {
     "slide_type": "slide"
    }
   },
   "outputs": [],
   "source": [
    "from Exercise_6 import *\n",
    "import json\n",
    "file_content=json.load(open('playerNBA.json'))"
   ]
  },
  {
   "cell_type": "code",
   "execution_count": 34,
   "metadata": {
    "slideshow": {
     "slide_type": "subslide"
    }
   },
   "outputs": [
    {
     "data": {
      "text/plain": [
       "{'hgt': 48.36353211009177,\n",
       " 'stre': 46.24885321100917,\n",
       " 'spd': 53.27752293577975,\n",
       " 'jmp': 53.35206422018351,\n",
       " 'endu': 41.286697247706385,\n",
       " 'ins': 45.02981651376154,\n",
       " 'dnk': 60.25573394495405,\n",
       " 'ft': 51.10206422018341,\n",
       " 'fg': 54.263761467889935,\n",
       " 'tp': 44.92316513761466,\n",
       " 'diq': 40.86353211009176,\n",
       " 'oiq': 46.380733944954095,\n",
       " 'drb': 44.97018348623852,\n",
       " 'pss': 42.470183486238454,\n",
       " 'reb': 48.62729357798164}"
      ]
     },
     "execution_count": 34,
     "metadata": {},
     "output_type": "execute_result"
    }
   ],
   "source": [
    "average_ratings(file_content)"
   ]
  },
  {
   "cell_type": "code",
   "execution_count": 35,
   "metadata": {
    "slideshow": {
     "slide_type": "slide"
    }
   },
   "outputs": [
    {
     "data": {
      "text/plain": [
       "2.0031959788690217"
      ]
     },
     "execution_count": 35,
     "metadata": {},
     "output_type": "execute_result"
    }
   ],
   "source": [
    "average_heigth(file_content)"
   ]
  },
  {
   "cell_type": "code",
   "execution_count": 36,
   "metadata": {
    "slideshow": {
     "slide_type": "subslide"
    }
   },
   "outputs": [
    {
     "data": {
      "text/plain": [
       "97.63100959038039"
      ]
     },
     "execution_count": 36,
     "metadata": {},
     "output_type": "execute_result"
    }
   ],
   "source": [
    "average_weigth(file_content)"
   ]
  },
  {
   "cell_type": "code",
   "execution_count": 37,
   "metadata": {
    "slideshow": {
     "slide_type": "subslide"
    }
   },
   "outputs": [
    {
     "data": {
      "text/plain": [
       "26.212155963302752"
      ]
     },
     "execution_count": 37,
     "metadata": {},
     "output_type": "execute_result"
    }
   ],
   "source": [
    "average_age(file_content)"
   ]
  },
  {
   "cell_type": "markdown",
   "metadata": {
    "slideshow": {
     "slide_type": "subslide"
    }
   },
   "source": [
    "Inheritance\n",
    "==\n",
    "Inheritance is used to create new classes by using existing classes - new ones can both be created by extending and by restricting the existing classes. Let's see a simple example below"
   ]
  },
  {
   "cell_type": "code",
   "execution_count": 2,
   "metadata": {
    "tags": []
   },
   "outputs": [
    {
     "name": "stdout",
     "output_type": "stream",
     "text": [
      "Pongo is an animal\n",
      "Pongo has jumped\n",
      "Pongo is a quadruped\n",
      "Pongo has jumped\n",
      "Pongo is a dog of the family Dalmata\n",
      "4\n",
      "Pongo has jumped\n",
      "Pongo says: Woof!\n"
     ]
    }
   ],
   "source": [
    "class Animal(object):\n",
    "    \"\"\"docstring for Animal\"\"\"\n",
    "    def __init__(self, name):\n",
    "        self.name=name\n",
    "    #This method is used to define how an object of this class will be represented by the function print()\n",
    "    def __repr__(self):\n",
    "        return f\"{self.name} is an animal\"\n",
    "    def jump(self):\n",
    "        print(f\"{self.name} has jumped\")\n",
    "\n",
    "class Quadruped(Animal):\n",
    "    \"\"\"docstring for Quadruped\"\"\"\n",
    "    def __init__(self,name):\n",
    "        Animal.__init__(self,name)\n",
    "        self.n_of_legs=4\n",
    "    #This method is used to define how an object of this class will be represented by the function print()\n",
    "    def __repr__(self):\n",
    "        return \"{} is a quadruped\".format(self.name)\n",
    "    \n",
    "\n",
    "class Dog(Quadruped):\n",
    "    \"\"\"docstring for Dog\"\"\"\n",
    "    def __init__(self, name,family):\n",
    "        Quadruped.__init__(self,name)\n",
    "        self.family=family\n",
    "        self.verse=\"Woof!\"\n",
    "    #This method is used to define how an object of this class will be represented by the function print()\n",
    "    def __repr__(self):\n",
    "        return \"{} is a dog of the family {}\".format(self.name,self.family)\n",
    "    def talk(self):\n",
    "        print(f\"{self.name} says: {self.verse}\")\n",
    "\n",
    "if __name__ == '__main__':\n",
    "    pongo=Animal('Pongo')\n",
    "    print(pongo)\n",
    "    pongo.jump()\n",
    "\n",
    "    pongo=Quadruped('Pongo')\n",
    "    print(pongo)\n",
    "    pongo.jump()\n",
    "\n",
    "    pongo=Dog('Pongo','Dalmata')\n",
    "    print(pongo)\n",
    "    print(pongo.n_of_legs)\n",
    "    pongo.jump()\n",
    "    pongo.talk()"
   ]
  },
  {
   "cell_type": "markdown",
   "metadata": {},
   "source": [
    "As you can see according to the way in we instantiate the object we can acces to different methods and we can always use the method of the parent-class from the child class\n"
   ]
  },
  {
   "cell_type": "markdown",
   "metadata": {},
   "source": [
    "Polymorphism\n",
    "===\n",
    "Polymorphism allows us to use method of parent classes and modify them according to our need. An example of this was alredy shown in the code above as we use the method \"*\\_\\_repr\\_\\_*\" to define how our object will be printed.\n",
    "Another example can be done for the Exercise 1: imagine we want to define a Point2D and a Point3D and we want to calculate their distance from the origin, we could do as follows"
   ]
  },
  {
   "cell_type": "code",
   "execution_count": 39,
   "metadata": {
    "tags": []
   },
   "outputs": [
    {
     "name": "stdout",
     "output_type": "stream",
     "text": [
      "1.4142135623730951\n",
      "1.7320508075688772\n"
     ]
    }
   ],
   "source": [
    "import math\n",
    "class Point2D(object):\n",
    "    \"\"\"Class for a Point object: the available methods are move(x,y) and distance(another_point)\"\"\"\n",
    "    def __init__(self, x,y,):\n",
    "        self.x = x\n",
    "        self.y = y\n",
    "    def __repr__(self):\n",
    "        return \"{},{}\".format(self.x,self.y)\n",
    "    def distanceFromOrigin(self):\n",
    "        print (math.sqrt((self.x)**2+(self.y)**2))\n",
    "class Point3D(Point2D):\n",
    "    def __init__(self,x,y,z):\n",
    "        Point2D.__init__(self,x,y)\n",
    "        self.z=z\n",
    "    def __repr__(self):\n",
    "        return \"{},{},{}\".format(self.x,self.y,self.z)\n",
    "    def distanceFromOrigin(self):\n",
    "        print (math.sqrt((self.x)**2+(self.y)**2+(self.z)**2))\n",
    "        #To maximize the potentiality of polymorphism we could do\n",
    "        #distance=math.sqrt(Point2D(self.x,self.y).distanceFromOrigin()**2+self.z**2)\n",
    "if __name__==\"__main__\":\n",
    "    a=Point2D(1,1)\n",
    "    a.distanceFromOrigin()\n",
    "    b=Point3D(1,1,1)\n",
    "    b.distanceFromOrigin()\n",
    "    "
   ]
  },
  {
   "cell_type": "markdown",
   "metadata": {},
   "source": [
    "Exercise 7\n",
    "===\n",
    "As exercise on polymorpishm and inheritance you can create the parent-class \"Circle\"and the child-class \"Cylinder\". The Circle class must have the methods to calculate area and perimeter while the Cylinder class must have the method to calculate area and volume"
   ]
  },
  {
   "cell_type": "markdown",
   "metadata": {},
   "source": [
    "Exercise 8\n",
    "===\n",
    "This exercise takes inspiration from the popular sandbox game Minecraft. In that game almost everything is a block with a set of properties that define the block and his beahaviour. Some blocks have common carachteristics others are completely different among each other. We want to try to create the classes to represent some of these pieces of the game.\n",
    "As exercise we want to create to represent 3 blocks using inheritance and polymorphism, their description is shown in the picture below"
   ]
  },
  {
   "cell_type": "markdown",
   "metadata": {},
   "source": [
    "![Schema](Exercise8.png)"
   ]
  },
  {
   "cell_type": "markdown",
   "metadata": {},
   "source": [
    "Encapsulation\n",
    "===\n",
    "When programmin using classes we sometimes want to avoid the final user to execute some method or access some attributes to avoid possible mistakes and problems. We can doing this using encapsulation. Let's make and example considering the class \"_Student_\" defined below"
   ]
  },
  {
   "cell_type": "code",
   "execution_count": 40,
   "metadata": {
    "tags": []
   },
   "outputs": [
    {
     "name": "stdout",
     "output_type": "stream",
     "text": [
      "Mickey Mouse\n",
      "Mickey Duck\n"
     ]
    }
   ],
   "source": [
    "class Student(object):\n",
    "    def __init__(self,name,surname,birthday):\n",
    "        self.name=name\n",
    "        self.surname=surname\n",
    "        self.birthday=birthday\n",
    "if __name__==\"__main__\":\n",
    "    #Create a student\n",
    "    s=Student(\"Mickey\",\"Mouse\",\"16/01/1928\")\n",
    "    #Print his full name\n",
    "    print(s.name+\" \"+s.surname)\n",
    "    #Change the student's surname and print it again\n",
    "    s.surname=\"Duck\"\n",
    "    print(s.name+\" \"+s.surname)"
   ]
  },
  {
   "cell_type": "markdown",
   "metadata": {},
   "source": [
    "As you see we can access to the attributes of the class without any restriction. If we want instead to restrict the access to the attribute _name_ and _surname_ to avoid the possibility to modify these after the object creation, the attribute birthday instead well have the same behaviour. To achieve this we would do as follows\n"
   ]
  },
  {
   "cell_type": "code",
   "execution_count": 41,
   "metadata": {},
   "outputs": [],
   "source": [
    "class Student(object):\n",
    "    def __init__(self,name,surname,birthday):\n",
    "        self.__name=name\n",
    "        self.__surname=surname\n",
    "        self.birthday=birthday\n",
    "    def getFullName(self):\n",
    "        return self.__name+\" \"+self.__surname"
   ]
  },
  {
   "cell_type": "markdown",
   "metadata": {},
   "source": [
    "If in this case we try to access the attributes _\\_\\_name_ or _\\_\\_surname_ we would get an error. The only way to obtain the complete name would be to use the method _getFullName()_. So to use encapsulation in Python and hide some attributes to the final user we must simpply put \"\\_\\_\" before the name its name (the same can be done to hide methods)"
   ]
  },
  {
   "cell_type": "markdown",
   "metadata": {},
   "source": [
    "Exercise 9\n",
    "===\n",
    "As exercise to exploit encapsulation let's create a class \"_Car_\", the class must have the attributtes for name, speed and gear with the following properties\n",
    "\n",
    "1. the _name_ can't be changed after the creation of the object, but it can be retrieved\n",
    "2. the _speed_ can be set to any value less than 250 (if greater it will be changed to 250) and can be retrieved\n",
    "3. the _gear_ can go from 1 to 6 and can be changed only up and down by one (it's set to 1 when the object is created) and can be retrieved"
   ]
  },
  {
   "cell_type": "code",
   "execution_count": null,
   "metadata": {},
   "outputs": [],
   "source": []
  }
 ],
 "metadata": {
  "celltoolbar": "Slideshow",
  "kernelspec": {
   "display_name": "Python 3",
   "language": "python",
   "name": "python3"
  },
  "language_info": {
   "codemirror_mode": {
    "name": "ipython",
    "version": 3
   },
   "file_extension": ".py",
   "mimetype": "text/x-python",
   "name": "python",
   "nbconvert_exporter": "python",
   "pygments_lexer": "ipython3",
   "version": "3.8.2"
  }
 },
 "nbformat": 4,
 "nbformat_minor": 4
}
